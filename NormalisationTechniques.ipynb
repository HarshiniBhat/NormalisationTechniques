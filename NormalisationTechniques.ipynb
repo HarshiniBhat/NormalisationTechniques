{
  "nbformat": 4,
  "nbformat_minor": 0,
  "metadata": {
    "accelerator": "GPU",
    "colab": {
      "name": "NormalisationTechniques.ipynb",
      "provenance": [],
      "collapsed_sections": []
    },
    "kernelspec": {
      "display_name": "Python 3",
      "name": "python3"
    },
    "language_info": {
      "name": "python"
    },
    "widgets": {
      "application/vnd.jupyter.widget-state+json": {
        "23ba275f287d4f9ab3bf00cb49be15d0": {
          "model_module": "@jupyter-widgets/controls",
          "model_name": "HBoxModel",
          "model_module_version": "1.5.0",
          "state": {
            "_view_name": "HBoxView",
            "_dom_classes": [],
            "_model_name": "HBoxModel",
            "_view_module": "@jupyter-widgets/controls",
            "_model_module_version": "1.5.0",
            "_view_count": null,
            "_view_module_version": "1.5.0",
            "box_style": "",
            "layout": "IPY_MODEL_224c319c5e364dfeab2b75b818a5398a",
            "_model_module": "@jupyter-widgets/controls",
            "children": [
              "IPY_MODEL_7189c25e591e4e93a63f7c3bca482c35",
              "IPY_MODEL_099a6281d93f49a8ab2e227ceaa49842",
              "IPY_MODEL_ee848d11404f451bada924a49cad5fc0"
            ]
          }
        },
        "224c319c5e364dfeab2b75b818a5398a": {
          "model_module": "@jupyter-widgets/base",
          "model_name": "LayoutModel",
          "model_module_version": "1.2.0",
          "state": {
            "_view_name": "LayoutView",
            "grid_template_rows": null,
            "right": null,
            "justify_content": null,
            "_view_module": "@jupyter-widgets/base",
            "overflow": null,
            "_model_module_version": "1.2.0",
            "_view_count": null,
            "flex_flow": null,
            "width": null,
            "min_width": null,
            "border": null,
            "align_items": null,
            "bottom": null,
            "_model_module": "@jupyter-widgets/base",
            "top": null,
            "grid_column": null,
            "overflow_y": null,
            "overflow_x": null,
            "grid_auto_flow": null,
            "grid_area": null,
            "grid_template_columns": null,
            "flex": null,
            "_model_name": "LayoutModel",
            "justify_items": null,
            "grid_row": null,
            "max_height": null,
            "align_content": null,
            "visibility": null,
            "align_self": null,
            "height": null,
            "min_height": null,
            "padding": null,
            "grid_auto_rows": null,
            "grid_gap": null,
            "max_width": null,
            "order": null,
            "_view_module_version": "1.2.0",
            "grid_template_areas": null,
            "object_position": null,
            "object_fit": null,
            "grid_auto_columns": null,
            "margin": null,
            "display": null,
            "left": null
          }
        },
        "7189c25e591e4e93a63f7c3bca482c35": {
          "model_module": "@jupyter-widgets/controls",
          "model_name": "HTMLModel",
          "model_module_version": "1.5.0",
          "state": {
            "_view_name": "HTMLView",
            "style": "IPY_MODEL_ef8d8d9d195247c188e42abed380adf4",
            "_dom_classes": [],
            "description": "",
            "_model_name": "HTMLModel",
            "placeholder": "​",
            "_view_module": "@jupyter-widgets/controls",
            "_model_module_version": "1.5.0",
            "value": "",
            "_view_count": null,
            "_view_module_version": "1.5.0",
            "description_tooltip": null,
            "_model_module": "@jupyter-widgets/controls",
            "layout": "IPY_MODEL_c221800c2d3f489e94ca4cdbc4e2e596"
          }
        },
        "099a6281d93f49a8ab2e227ceaa49842": {
          "model_module": "@jupyter-widgets/controls",
          "model_name": "FloatProgressModel",
          "model_module_version": "1.5.0",
          "state": {
            "_view_name": "ProgressView",
            "style": "IPY_MODEL_dcc4d47094654167bd995a4c516a1cd2",
            "_dom_classes": [],
            "description": "",
            "_model_name": "FloatProgressModel",
            "bar_style": "success",
            "max": 9912422,
            "_view_module": "@jupyter-widgets/controls",
            "_model_module_version": "1.5.0",
            "value": 9912422,
            "_view_count": null,
            "_view_module_version": "1.5.0",
            "orientation": "horizontal",
            "min": 0,
            "description_tooltip": null,
            "_model_module": "@jupyter-widgets/controls",
            "layout": "IPY_MODEL_709fa35e7a1c489584ea3c47310dddc1"
          }
        },
        "ee848d11404f451bada924a49cad5fc0": {
          "model_module": "@jupyter-widgets/controls",
          "model_name": "HTMLModel",
          "model_module_version": "1.5.0",
          "state": {
            "_view_name": "HTMLView",
            "style": "IPY_MODEL_1f0ade7d47b644569c84c787ad5818d8",
            "_dom_classes": [],
            "description": "",
            "_model_name": "HTMLModel",
            "placeholder": "​",
            "_view_module": "@jupyter-widgets/controls",
            "_model_module_version": "1.5.0",
            "value": " 9913344/? [00:00&lt;00:00, 18460637.14it/s]",
            "_view_count": null,
            "_view_module_version": "1.5.0",
            "description_tooltip": null,
            "_model_module": "@jupyter-widgets/controls",
            "layout": "IPY_MODEL_30dcf637bf0a41c4a55ae907d1dab1d1"
          }
        },
        "ef8d8d9d195247c188e42abed380adf4": {
          "model_module": "@jupyter-widgets/controls",
          "model_name": "DescriptionStyleModel",
          "model_module_version": "1.5.0",
          "state": {
            "_view_name": "StyleView",
            "_model_name": "DescriptionStyleModel",
            "description_width": "",
            "_view_module": "@jupyter-widgets/base",
            "_model_module_version": "1.5.0",
            "_view_count": null,
            "_view_module_version": "1.2.0",
            "_model_module": "@jupyter-widgets/controls"
          }
        },
        "c221800c2d3f489e94ca4cdbc4e2e596": {
          "model_module": "@jupyter-widgets/base",
          "model_name": "LayoutModel",
          "model_module_version": "1.2.0",
          "state": {
            "_view_name": "LayoutView",
            "grid_template_rows": null,
            "right": null,
            "justify_content": null,
            "_view_module": "@jupyter-widgets/base",
            "overflow": null,
            "_model_module_version": "1.2.0",
            "_view_count": null,
            "flex_flow": null,
            "width": null,
            "min_width": null,
            "border": null,
            "align_items": null,
            "bottom": null,
            "_model_module": "@jupyter-widgets/base",
            "top": null,
            "grid_column": null,
            "overflow_y": null,
            "overflow_x": null,
            "grid_auto_flow": null,
            "grid_area": null,
            "grid_template_columns": null,
            "flex": null,
            "_model_name": "LayoutModel",
            "justify_items": null,
            "grid_row": null,
            "max_height": null,
            "align_content": null,
            "visibility": null,
            "align_self": null,
            "height": null,
            "min_height": null,
            "padding": null,
            "grid_auto_rows": null,
            "grid_gap": null,
            "max_width": null,
            "order": null,
            "_view_module_version": "1.2.0",
            "grid_template_areas": null,
            "object_position": null,
            "object_fit": null,
            "grid_auto_columns": null,
            "margin": null,
            "display": null,
            "left": null
          }
        },
        "dcc4d47094654167bd995a4c516a1cd2": {
          "model_module": "@jupyter-widgets/controls",
          "model_name": "ProgressStyleModel",
          "model_module_version": "1.5.0",
          "state": {
            "_view_name": "StyleView",
            "_model_name": "ProgressStyleModel",
            "description_width": "",
            "_view_module": "@jupyter-widgets/base",
            "_model_module_version": "1.5.0",
            "_view_count": null,
            "_view_module_version": "1.2.0",
            "bar_color": null,
            "_model_module": "@jupyter-widgets/controls"
          }
        },
        "709fa35e7a1c489584ea3c47310dddc1": {
          "model_module": "@jupyter-widgets/base",
          "model_name": "LayoutModel",
          "model_module_version": "1.2.0",
          "state": {
            "_view_name": "LayoutView",
            "grid_template_rows": null,
            "right": null,
            "justify_content": null,
            "_view_module": "@jupyter-widgets/base",
            "overflow": null,
            "_model_module_version": "1.2.0",
            "_view_count": null,
            "flex_flow": null,
            "width": null,
            "min_width": null,
            "border": null,
            "align_items": null,
            "bottom": null,
            "_model_module": "@jupyter-widgets/base",
            "top": null,
            "grid_column": null,
            "overflow_y": null,
            "overflow_x": null,
            "grid_auto_flow": null,
            "grid_area": null,
            "grid_template_columns": null,
            "flex": null,
            "_model_name": "LayoutModel",
            "justify_items": null,
            "grid_row": null,
            "max_height": null,
            "align_content": null,
            "visibility": null,
            "align_self": null,
            "height": null,
            "min_height": null,
            "padding": null,
            "grid_auto_rows": null,
            "grid_gap": null,
            "max_width": null,
            "order": null,
            "_view_module_version": "1.2.0",
            "grid_template_areas": null,
            "object_position": null,
            "object_fit": null,
            "grid_auto_columns": null,
            "margin": null,
            "display": null,
            "left": null
          }
        },
        "1f0ade7d47b644569c84c787ad5818d8": {
          "model_module": "@jupyter-widgets/controls",
          "model_name": "DescriptionStyleModel",
          "model_module_version": "1.5.0",
          "state": {
            "_view_name": "StyleView",
            "_model_name": "DescriptionStyleModel",
            "description_width": "",
            "_view_module": "@jupyter-widgets/base",
            "_model_module_version": "1.5.0",
            "_view_count": null,
            "_view_module_version": "1.2.0",
            "_model_module": "@jupyter-widgets/controls"
          }
        },
        "30dcf637bf0a41c4a55ae907d1dab1d1": {
          "model_module": "@jupyter-widgets/base",
          "model_name": "LayoutModel",
          "model_module_version": "1.2.0",
          "state": {
            "_view_name": "LayoutView",
            "grid_template_rows": null,
            "right": null,
            "justify_content": null,
            "_view_module": "@jupyter-widgets/base",
            "overflow": null,
            "_model_module_version": "1.2.0",
            "_view_count": null,
            "flex_flow": null,
            "width": null,
            "min_width": null,
            "border": null,
            "align_items": null,
            "bottom": null,
            "_model_module": "@jupyter-widgets/base",
            "top": null,
            "grid_column": null,
            "overflow_y": null,
            "overflow_x": null,
            "grid_auto_flow": null,
            "grid_area": null,
            "grid_template_columns": null,
            "flex": null,
            "_model_name": "LayoutModel",
            "justify_items": null,
            "grid_row": null,
            "max_height": null,
            "align_content": null,
            "visibility": null,
            "align_self": null,
            "height": null,
            "min_height": null,
            "padding": null,
            "grid_auto_rows": null,
            "grid_gap": null,
            "max_width": null,
            "order": null,
            "_view_module_version": "1.2.0",
            "grid_template_areas": null,
            "object_position": null,
            "object_fit": null,
            "grid_auto_columns": null,
            "margin": null,
            "display": null,
            "left": null
          }
        }
      }
    }
  },
  "cells": [
    {
      "cell_type": "markdown",
      "metadata": {
        "id": "jG9lgoTbNJnQ"
      },
      "source": [
        "To Build a :\n",
        "- Network with Group Normalization\n",
        "- Network with Layer Normalization\n",
        "- Network with L1 + BN\n",
        "- Network with L2 + BN\n"
      ]
    },
    {
      "cell_type": "markdown",
      "metadata": {
        "id": "ZrCia5khNwVW"
      },
      "source": [
        "## Importing Libraries"
      ]
    },
    {
      "cell_type": "code",
      "metadata": {
        "id": "UaQTfXIxNpjE"
      },
      "source": [
        "# import model\n",
        "import torch\n",
        "import torch.nn as nn\n",
        "import torch.nn.functional as F\n",
        "import torch.optim as optim\n",
        "from torchvision import datasets, transforms\n",
        "from tqdm import tqdm\n",
        "from torchsummary import summary\n",
        "\n",
        "import matplotlib.pyplot as plt\n",
        "import numpy as np "
      ],
      "execution_count": 1,
      "outputs": []
    },
    {
      "cell_type": "markdown",
      "metadata": {
        "id": "6qRF2duqN_xX"
      },
      "source": [
        "## Downloading DataSet\n"
      ]
    },
    {
      "cell_type": "code",
      "metadata": {
        "colab": {
          "base_uri": "https://localhost:8080/",
          "height": 467,
          "referenced_widgets": [
            "23ba275f287d4f9ab3bf00cb49be15d0",
            "224c319c5e364dfeab2b75b818a5398a",
            "7189c25e591e4e93a63f7c3bca482c35",
            "099a6281d93f49a8ab2e227ceaa49842",
            "ee848d11404f451bada924a49cad5fc0",
            "ef8d8d9d195247c188e42abed380adf4",
            "c221800c2d3f489e94ca4cdbc4e2e596",
            "dcc4d47094654167bd995a4c516a1cd2",
            "709fa35e7a1c489584ea3c47310dddc1",
            "1f0ade7d47b644569c84c787ad5818d8",
            "30dcf637bf0a41c4a55ae907d1dab1d1"
          ]
        },
        "id": "-KCInnV5XLyG",
        "outputId": "c1d561b6-5788-4aca-d57e-ce7f4e7939c6"
      },
      "source": [
        "torch.manual_seed(1)\n",
        "use_cuda = torch.cuda.is_available()\n",
        "kwargs = {'num_workers': 1, 'pin_memory': True} if use_cuda else {}\n",
        "bs = 256\n",
        "\n",
        "train_set = torch.utils.data.DataLoader(\n",
        "    datasets.MNIST('../data/', train=True, download=True, \n",
        "                   transform=transforms.Compose([\n",
        "                       transforms.ToTensor(),\n",
        "                       transforms.Normalize((0.1307,), (0.3081,))\n",
        "                   ])\n",
        "    ),\n",
        "    batch_size=bs, shuffle=True, **kwargs\n",
        ")\n",
        "\n",
        "test_set = torch.utils.data.DataLoader(\n",
        "    datasets.MNIST('../data/', train=False, \n",
        "                   transform=transforms.Compose([\n",
        "                       transforms.ToTensor(),\n",
        "                       transforms.Normalize((0.1307,), (0.3081,))\n",
        "                   ])\n",
        "    ),\n",
        "    batch_size=bs, **kwargs\n",
        ")"
      ],
      "execution_count": 2,
      "outputs": [
        {
          "output_type": "stream",
          "name": "stdout",
          "text": [
            "Downloading http://yann.lecun.com/exdb/mnist/train-images-idx3-ubyte.gz\n",
            "Downloading http://yann.lecun.com/exdb/mnist/train-images-idx3-ubyte.gz to ../data/MNIST/raw/train-images-idx3-ubyte.gz\n"
          ]
        },
        {
          "output_type": "display_data",
          "data": {
            "application/vnd.jupyter.widget-view+json": {
              "model_id": "23ba275f287d4f9ab3bf00cb49be15d0",
              "version_minor": 0,
              "version_major": 2
            },
            "text/plain": [
              "  0%|          | 0/9912422 [00:00<?, ?it/s]"
            ]
          },
          "metadata": {}
        },
        {
          "output_type": "stream",
          "name": "stdout",
          "text": [
            "Extracting ../data/MNIST/raw/train-images-idx3-ubyte.gz to ../data/MNIST/raw\n",
            "\n",
            "Downloading http://yann.lecun.com/exdb/mnist/train-labels-idx1-ubyte.gz\n",
            "Downloading http://yann.lecun.com/exdb/mnist/train-labels-idx1-ubyte.gz to ../data/MNIST/raw/train-labels-idx1-ubyte.gz\n"
          ]
        },
        {
          "output_type": "display_data",
          "data": {
            "application/vnd.jupyter.widget-view+json": {
              "model_id": "5e15e12e786c4790ab6fe74009b3b99d",
              "version_minor": 0,
              "version_major": 2
            },
            "text/plain": [
              "  0%|          | 0/28881 [00:00<?, ?it/s]"
            ]
          },
          "metadata": {}
        },
        {
          "output_type": "stream",
          "name": "stdout",
          "text": [
            "Extracting ../data/MNIST/raw/train-labels-idx1-ubyte.gz to ../data/MNIST/raw\n",
            "\n",
            "Downloading http://yann.lecun.com/exdb/mnist/t10k-images-idx3-ubyte.gz\n",
            "Downloading http://yann.lecun.com/exdb/mnist/t10k-images-idx3-ubyte.gz to ../data/MNIST/raw/t10k-images-idx3-ubyte.gz\n"
          ]
        },
        {
          "output_type": "display_data",
          "data": {
            "application/vnd.jupyter.widget-view+json": {
              "model_id": "67524b85da774561b6b9b42b6ed9cc33",
              "version_minor": 0,
              "version_major": 2
            },
            "text/plain": [
              "  0%|          | 0/1648877 [00:00<?, ?it/s]"
            ]
          },
          "metadata": {}
        },
        {
          "output_type": "stream",
          "name": "stdout",
          "text": [
            "Extracting ../data/MNIST/raw/t10k-images-idx3-ubyte.gz to ../data/MNIST/raw\n",
            "\n",
            "Downloading http://yann.lecun.com/exdb/mnist/t10k-labels-idx1-ubyte.gz\n",
            "Downloading http://yann.lecun.com/exdb/mnist/t10k-labels-idx1-ubyte.gz to ../data/MNIST/raw/t10k-labels-idx1-ubyte.gz\n"
          ]
        },
        {
          "output_type": "display_data",
          "data": {
            "application/vnd.jupyter.widget-view+json": {
              "model_id": "51e88473037a4526bc8a085137d5d489",
              "version_minor": 0,
              "version_major": 2
            },
            "text/plain": [
              "  0%|          | 0/4542 [00:00<?, ?it/s]"
            ]
          },
          "metadata": {}
        },
        {
          "output_type": "stream",
          "name": "stdout",
          "text": [
            "Extracting ../data/MNIST/raw/t10k-labels-idx1-ubyte.gz to ../data/MNIST/raw\n",
            "\n"
          ]
        },
        {
          "output_type": "stream",
          "name": "stderr",
          "text": [
            "/usr/local/lib/python3.7/dist-packages/torchvision/datasets/mnist.py:498: UserWarning: The given NumPy array is not writeable, and PyTorch does not support non-writeable tensors. This means you can write to the underlying (supposedly non-writeable) NumPy array using the tensor. You may want to copy the array to protect its data or make it writeable before converting it to a tensor. This type of warning will be suppressed for the rest of this program. (Triggered internally at  /pytorch/torch/csrc/utils/tensor_numpy.cpp:180.)\n",
            "  return torch.from_numpy(parsed.astype(m[2], copy=False)).view(*s)\n"
          ]
        }
      ]
    },
    {
      "cell_type": "markdown",
      "metadata": {
        "id": "D29IP7xYAJTx"
      },
      "source": [
        "## Defining the model\n"
      ]
    },
    {
      "cell_type": "code",
      "metadata": {
        "id": "_hTATsbuAIeF"
      },
      "source": [
        "import model\n"
      ],
      "execution_count": 3,
      "outputs": []
    },
    {
      "cell_type": "code",
      "metadata": {
        "colab": {
          "base_uri": "https://localhost:8080/"
        },
        "id": "qaIvXG4-VZWY",
        "outputId": "65e16a16-d550-488e-e4e4-68b3c112735e"
      },
      "source": [
        "use_cuda = torch.cuda.is_available()\n",
        "device = torch.device(\"cuda\" if use_cuda else \"cpu\")\n",
        "net = model.Net().to(device)\n",
        "summary(net, input_size=(1, 28, 28))"
      ],
      "execution_count": 5,
      "outputs": [
        {
          "output_type": "stream",
          "name": "stdout",
          "text": [
            "----------------------------------------------------------------\n",
            "        Layer (type)               Output Shape         Param #\n",
            "================================================================\n",
            "            Conv2d-1            [-1, 8, 28, 28]              72\n",
            "       BatchNorm2d-2            [-1, 8, 28, 28]              16\n",
            "              ReLU-3            [-1, 8, 28, 28]               0\n",
            "         Dropout2d-4            [-1, 8, 28, 28]               0\n",
            "            Conv2d-5           [-1, 24, 28, 28]           1,728\n",
            "       BatchNorm2d-6           [-1, 24, 28, 28]              48\n",
            "              ReLU-7           [-1, 24, 28, 28]               0\n",
            "         Dropout2d-8           [-1, 24, 28, 28]               0\n",
            "         MaxPool2d-9           [-1, 24, 14, 14]               0\n",
            "           Conv2d-10            [-1, 8, 14, 14]             192\n",
            "      BatchNorm2d-11            [-1, 8, 14, 14]              16\n",
            "             ReLU-12            [-1, 8, 14, 14]               0\n",
            "        Dropout2d-13            [-1, 8, 14, 14]               0\n",
            "           Conv2d-14           [-1, 16, 12, 12]           1,152\n",
            "      BatchNorm2d-15           [-1, 16, 12, 12]              32\n",
            "             ReLU-16           [-1, 16, 12, 12]               0\n",
            "        Dropout2d-17           [-1, 16, 12, 12]               0\n",
            "           Conv2d-18           [-1, 24, 10, 10]           3,456\n",
            "      BatchNorm2d-19           [-1, 24, 10, 10]              48\n",
            "             ReLU-20           [-1, 24, 10, 10]               0\n",
            "        Dropout2d-21           [-1, 24, 10, 10]               0\n",
            "           Conv2d-22            [-1, 8, 10, 10]             192\n",
            "      BatchNorm2d-23            [-1, 8, 10, 10]              16\n",
            "             ReLU-24            [-1, 8, 10, 10]               0\n",
            "        Dropout2d-25            [-1, 8, 10, 10]               0\n",
            "           Conv2d-26             [-1, 16, 8, 8]           1,152\n",
            "      BatchNorm2d-27             [-1, 16, 8, 8]              32\n",
            "             ReLU-28             [-1, 16, 8, 8]               0\n",
            "        Dropout2d-29             [-1, 16, 8, 8]               0\n",
            "           Conv2d-30             [-1, 32, 6, 6]           4,608\n",
            "      BatchNorm2d-31             [-1, 32, 6, 6]              64\n",
            "             ReLU-32             [-1, 32, 6, 6]               0\n",
            "        Dropout2d-33             [-1, 32, 6, 6]               0\n",
            "        AvgPool2d-34             [-1, 32, 1, 1]               0\n",
            "           Linear-35                   [-1, 10]             330\n",
            "================================================================\n",
            "Total params: 13,154\n",
            "Trainable params: 13,154\n",
            "Non-trainable params: 0\n",
            "----------------------------------------------------------------\n",
            "Input size (MB): 0.00\n",
            "Forward/backward pass size (MB): 1.08\n",
            "Params size (MB): 0.05\n",
            "Estimated Total Size (MB): 1.14\n",
            "----------------------------------------------------------------\n"
          ]
        },
        {
          "output_type": "stream",
          "name": "stderr",
          "text": [
            "/usr/local/lib/python3.7/dist-packages/torch/nn/functional.py:718: UserWarning: Named tensors and all their associated APIs are an experimental feature and subject to change. Please do not use them for anything important until they are released as stable. (Triggered internally at  /pytorch/c10/core/TensorImpl.h:1156.)\n",
            "  return torch.max_pool2d(input, kernel_size, stride, padding, dilation, ceil_mode)\n"
          ]
        }
      ]
    },
    {
      "cell_type": "markdown",
      "metadata": {
        "id": "uVt8kCwQSQrs"
      },
      "source": [
        "## Training the network\n"
      ]
    },
    {
      "cell_type": "code",
      "metadata": {
        "id": "u2UzFfU5VM-r"
      },
      "source": [
        "def train(model, device, train_loader, optimizer, use_l1, lambda_l1):\n",
        "    model.train() # training model\n",
        "    pbar = tqdm(train_loader)\n",
        "    t_acc = 0\n",
        "    for batch_idx, (data, target) in enumerate(pbar):\n",
        "        data, target = data.to(device), target.to(device)\n",
        "        optimizer.zero_grad() # optimizer\n",
        "        output = model(data) # output of the model\n",
        "\n",
        "        loss = F.nll_loss(output, target) # calculate the loss\n",
        "        l1 = 0\n",
        "        if use_l1:\n",
        "          for p in model.parameters():\n",
        "            l1 = l1+ p.abs().sum()\n",
        "        loss = loss+ lambda_l1*l1\n",
        "        loss.backward() # backpropogation\n",
        "        optimizer.step() # optimization\n",
        "\n",
        "        pred = output.argmax(dim=1).eq(target).sum().item() # final prediction\n",
        "        t_acc += pred # accuracy\n",
        "        pbar.set_description(desc= f'loss={loss.item():.4f} batch_id={batch_idx}') # setting the output\n",
        "    \n",
        "    return loss.item(), t_acc / len(train_loader.dataset)\n",
        "\n",
        "\n",
        "def test(model, device, test_loader):\n",
        "    model.eval()\n",
        "    test_loss = 0\n",
        "    correct = 0\n",
        "    with torch.no_grad():\n",
        "        for data, target in test_loader:\n",
        "            data, target = data.to(device), target.to(device)\n",
        "            output = model(data) # output of the model\n",
        "            test_loss += F.nll_loss(output, target, reduction='sum').item()  # sum up batch loss\n",
        "            pred = output.argmax(dim=1, keepdim=True)  # get the index of the max log-probability\n",
        "            correct += pred.eq(target.view_as(pred)).sum().item()\n",
        "\n",
        "    test_loss /= len(test_loader.dataset)\n",
        "    # printing the loss and accuracy of test\n",
        "    print('Test set: Average loss: {:.4f}, Accuracy: {}/{} ({:.2f}%)\\n'.format(\n",
        "        test_loss, correct, len(test_loader.dataset),\n",
        "        100. * correct / len(test_loader.dataset)))\n",
        "    \n",
        "    return test_loss, correct/len(test_loader.dataset)"
      ],
      "execution_count": 6,
      "outputs": []
    },
    {
      "cell_type": "code",
      "metadata": {
        "id": "BGLmNngJTlfE"
      },
      "source": [
        "def fit(net, lr ,num_epoch, use_l1, use_l2=False, lambda_l1=0.05):\n",
        "  if use_l2:\n",
        "    optimizer = optim.SGD(net.parameters(), lr=lr, momentum=0.9, weight_decay=1e-4) # SGD optimizer\n",
        "  else:\n",
        "    optimizer = optim.SGD(net.parameters(), lr=lr, momentum=0.9)\n",
        "\n",
        "  # defining the dictionary for train and test, loss and accuracy\n",
        "  h = dict() \n",
        "  h['train_loss'] = list()\n",
        "  h['train_accuracy'] = list()\n",
        "  h['test_loss'] = list()\n",
        "  h['test_accuracy'] = list()\n",
        "\n",
        "  for epoch in range(1, num_epoch+1):\n",
        "      print(epoch)\n",
        "      train_loss, train_acc = train(net, device, train_set, optimizer, use_l1, lambda_l1) # calling the training\n",
        "      test_loss, test_acc = test(net, device, test_set) # calling the testing\n",
        "\n",
        "      h['train_loss'].append(train_loss) # storing the training loss\n",
        "      h['train_accuracy'].append(train_acc) # storing  the accuracy\n",
        "\n",
        "      h['test_loss'].append(test_loss) # storing the testing loss\n",
        "      h['test_accuracy'].append(test_acc) # storing the testing accuracy\n",
        "  return net, h"
      ],
      "execution_count": 7,
      "outputs": []
    },
    {
      "cell_type": "markdown",
      "metadata": {
        "id": "cEly_TkcwYx9"
      },
      "source": [
        "### Batch Normalisation"
      ]
    },
    {
      "cell_type": "code",
      "metadata": {
        "colab": {
          "base_uri": "https://localhost:8080/"
        },
        "id": "TXbjSZeS7Mky",
        "outputId": "db71daa5-7d6c-40cc-8e88-284b1e0ce088"
      },
      "source": [
        "net_bn, hist_bn = fit(model.Net(norm='bn').to(device), lr=0.01, num_epoch=20, use_l1=False, use_l2=False)"
      ],
      "execution_count": 9,
      "outputs": [
        {
          "output_type": "stream",
          "name": "stdout",
          "text": [
            "1\n"
          ]
        },
        {
          "output_type": "stream",
          "name": "stderr",
          "text": [
            "loss=0.5235 batch_id=234: 100%|██████████| 235/235 [00:17<00:00, 13.51it/s]\n"
          ]
        },
        {
          "output_type": "stream",
          "name": "stdout",
          "text": [
            "Test set: Average loss: 0.3103, Accuracy: 9531/10000 (95.31%)\n",
            "\n",
            "2\n"
          ]
        },
        {
          "output_type": "stream",
          "name": "stderr",
          "text": [
            "loss=0.1892 batch_id=234: 100%|██████████| 235/235 [00:17<00:00, 13.52it/s]\n"
          ]
        },
        {
          "output_type": "stream",
          "name": "stdout",
          "text": [
            "Test set: Average loss: 0.1138, Accuracy: 9757/10000 (97.57%)\n",
            "\n",
            "3\n"
          ]
        },
        {
          "output_type": "stream",
          "name": "stderr",
          "text": [
            "loss=0.1965 batch_id=234: 100%|██████████| 235/235 [00:17<00:00, 13.62it/s]\n"
          ]
        },
        {
          "output_type": "stream",
          "name": "stdout",
          "text": [
            "Test set: Average loss: 0.0794, Accuracy: 9794/10000 (97.94%)\n",
            "\n",
            "4\n"
          ]
        },
        {
          "output_type": "stream",
          "name": "stderr",
          "text": [
            "loss=0.1218 batch_id=234: 100%|██████████| 235/235 [00:17<00:00, 13.47it/s]\n"
          ]
        },
        {
          "output_type": "stream",
          "name": "stdout",
          "text": [
            "Test set: Average loss: 0.0615, Accuracy: 9841/10000 (98.41%)\n",
            "\n",
            "5\n"
          ]
        },
        {
          "output_type": "stream",
          "name": "stderr",
          "text": [
            "loss=0.1286 batch_id=234: 100%|██████████| 235/235 [00:17<00:00, 13.37it/s]\n"
          ]
        },
        {
          "output_type": "stream",
          "name": "stdout",
          "text": [
            "Test set: Average loss: 0.0554, Accuracy: 9833/10000 (98.33%)\n",
            "\n",
            "6\n"
          ]
        },
        {
          "output_type": "stream",
          "name": "stderr",
          "text": [
            "loss=0.1022 batch_id=234: 100%|██████████| 235/235 [00:17<00:00, 13.39it/s]\n"
          ]
        },
        {
          "output_type": "stream",
          "name": "stdout",
          "text": [
            "Test set: Average loss: 0.0449, Accuracy: 9868/10000 (98.68%)\n",
            "\n",
            "7\n"
          ]
        },
        {
          "output_type": "stream",
          "name": "stderr",
          "text": [
            "loss=0.0548 batch_id=234: 100%|██████████| 235/235 [00:17<00:00, 13.38it/s]\n"
          ]
        },
        {
          "output_type": "stream",
          "name": "stdout",
          "text": [
            "Test set: Average loss: 0.0422, Accuracy: 9867/10000 (98.67%)\n",
            "\n",
            "8\n"
          ]
        },
        {
          "output_type": "stream",
          "name": "stderr",
          "text": [
            "loss=0.1150 batch_id=234: 100%|██████████| 235/235 [00:17<00:00, 13.42it/s]\n"
          ]
        },
        {
          "output_type": "stream",
          "name": "stdout",
          "text": [
            "Test set: Average loss: 0.0378, Accuracy: 9885/10000 (98.85%)\n",
            "\n",
            "9\n"
          ]
        },
        {
          "output_type": "stream",
          "name": "stderr",
          "text": [
            "loss=0.1025 batch_id=234: 100%|██████████| 235/235 [00:17<00:00, 13.45it/s]\n"
          ]
        },
        {
          "output_type": "stream",
          "name": "stdout",
          "text": [
            "Test set: Average loss: 0.0356, Accuracy: 9888/10000 (98.88%)\n",
            "\n",
            "10\n"
          ]
        },
        {
          "output_type": "stream",
          "name": "stderr",
          "text": [
            "loss=0.0735 batch_id=234: 100%|██████████| 235/235 [00:17<00:00, 13.48it/s]\n"
          ]
        },
        {
          "output_type": "stream",
          "name": "stdout",
          "text": [
            "Test set: Average loss: 0.0313, Accuracy: 9905/10000 (99.05%)\n",
            "\n",
            "11\n"
          ]
        },
        {
          "output_type": "stream",
          "name": "stderr",
          "text": [
            "loss=0.1597 batch_id=234: 100%|██████████| 235/235 [00:17<00:00, 13.42it/s]\n"
          ]
        },
        {
          "output_type": "stream",
          "name": "stdout",
          "text": [
            "Test set: Average loss: 0.0307, Accuracy: 9907/10000 (99.07%)\n",
            "\n",
            "12\n"
          ]
        },
        {
          "output_type": "stream",
          "name": "stderr",
          "text": [
            "loss=0.0999 batch_id=234: 100%|██████████| 235/235 [00:17<00:00, 13.43it/s]\n"
          ]
        },
        {
          "output_type": "stream",
          "name": "stdout",
          "text": [
            "Test set: Average loss: 0.0322, Accuracy: 9896/10000 (98.96%)\n",
            "\n",
            "13\n"
          ]
        },
        {
          "output_type": "stream",
          "name": "stderr",
          "text": [
            "loss=0.0527 batch_id=234: 100%|██████████| 235/235 [00:17<00:00, 13.34it/s]\n"
          ]
        },
        {
          "output_type": "stream",
          "name": "stdout",
          "text": [
            "Test set: Average loss: 0.0309, Accuracy: 9905/10000 (99.05%)\n",
            "\n",
            "14\n"
          ]
        },
        {
          "output_type": "stream",
          "name": "stderr",
          "text": [
            "loss=0.1292 batch_id=234: 100%|██████████| 235/235 [00:17<00:00, 13.36it/s]\n"
          ]
        },
        {
          "output_type": "stream",
          "name": "stdout",
          "text": [
            "Test set: Average loss: 0.0302, Accuracy: 9904/10000 (99.04%)\n",
            "\n",
            "15\n"
          ]
        },
        {
          "output_type": "stream",
          "name": "stderr",
          "text": [
            "loss=0.0584 batch_id=234: 100%|██████████| 235/235 [00:17<00:00, 13.40it/s]\n"
          ]
        },
        {
          "output_type": "stream",
          "name": "stdout",
          "text": [
            "Test set: Average loss: 0.0302, Accuracy: 9903/10000 (99.03%)\n",
            "\n",
            "16\n"
          ]
        },
        {
          "output_type": "stream",
          "name": "stderr",
          "text": [
            "loss=0.1941 batch_id=234: 100%|██████████| 235/235 [00:17<00:00, 13.48it/s]\n"
          ]
        },
        {
          "output_type": "stream",
          "name": "stdout",
          "text": [
            "Test set: Average loss: 0.0280, Accuracy: 9912/10000 (99.12%)\n",
            "\n",
            "17\n"
          ]
        },
        {
          "output_type": "stream",
          "name": "stderr",
          "text": [
            "loss=0.0230 batch_id=234: 100%|██████████| 235/235 [00:17<00:00, 13.43it/s]\n"
          ]
        },
        {
          "output_type": "stream",
          "name": "stdout",
          "text": [
            "Test set: Average loss: 0.0275, Accuracy: 9908/10000 (99.08%)\n",
            "\n",
            "18\n"
          ]
        },
        {
          "output_type": "stream",
          "name": "stderr",
          "text": [
            "loss=0.0366 batch_id=234: 100%|██████████| 235/235 [00:17<00:00, 13.26it/s]\n"
          ]
        },
        {
          "output_type": "stream",
          "name": "stdout",
          "text": [
            "Test set: Average loss: 0.0267, Accuracy: 9911/10000 (99.11%)\n",
            "\n",
            "19\n"
          ]
        },
        {
          "output_type": "stream",
          "name": "stderr",
          "text": [
            "loss=0.0597 batch_id=234: 100%|██████████| 235/235 [00:17<00:00, 13.25it/s]\n"
          ]
        },
        {
          "output_type": "stream",
          "name": "stdout",
          "text": [
            "Test set: Average loss: 0.0300, Accuracy: 9897/10000 (98.97%)\n",
            "\n",
            "20\n"
          ]
        },
        {
          "output_type": "stream",
          "name": "stderr",
          "text": [
            "loss=0.0383 batch_id=234: 100%|██████████| 235/235 [00:17<00:00, 13.28it/s]\n"
          ]
        },
        {
          "output_type": "stream",
          "name": "stdout",
          "text": [
            "Test set: Average loss: 0.0244, Accuracy: 9920/10000 (99.20%)\n",
            "\n"
          ]
        }
      ]
    },
    {
      "cell_type": "markdown",
      "metadata": {
        "id": "SpJpt3SXwl6K"
      },
      "source": [
        "### Group Normalisation"
      ]
    },
    {
      "cell_type": "code",
      "metadata": {
        "colab": {
          "base_uri": "https://localhost:8080/"
        },
        "id": "idxkX7-S7yLo",
        "outputId": "1196525d-4efe-4b52-ccfd-c1d5a42f694e"
      },
      "source": [
        "net_gn, hist_gn = fit(model.Net(norm='gn').to(device), lr=0.01, num_epoch=20, use_l1=False, use_l2=False)"
      ],
      "execution_count": 19,
      "outputs": [
        {
          "output_type": "stream",
          "name": "stdout",
          "text": [
            "1\n"
          ]
        },
        {
          "output_type": "stream",
          "name": "stderr",
          "text": [
            "loss=0.6105 batch_id=234: 100%|██████████| 235/235 [00:17<00:00, 13.13it/s]\n"
          ]
        },
        {
          "output_type": "stream",
          "name": "stdout",
          "text": [
            "Test set: Average loss: 0.4913, Accuracy: 8913/10000 (89.13%)\n",
            "\n",
            "2\n"
          ]
        },
        {
          "output_type": "stream",
          "name": "stderr",
          "text": [
            "loss=0.2235 batch_id=234: 100%|██████████| 235/235 [00:17<00:00, 13.07it/s]\n"
          ]
        },
        {
          "output_type": "stream",
          "name": "stdout",
          "text": [
            "Test set: Average loss: 0.1948, Accuracy: 9492/10000 (94.92%)\n",
            "\n",
            "3\n"
          ]
        },
        {
          "output_type": "stream",
          "name": "stderr",
          "text": [
            "loss=0.0770 batch_id=234: 100%|██████████| 235/235 [00:17<00:00, 13.12it/s]\n"
          ]
        },
        {
          "output_type": "stream",
          "name": "stdout",
          "text": [
            "Test set: Average loss: 0.0955, Accuracy: 9748/10000 (97.48%)\n",
            "\n",
            "4\n"
          ]
        },
        {
          "output_type": "stream",
          "name": "stderr",
          "text": [
            "loss=0.1964 batch_id=234: 100%|██████████| 235/235 [00:18<00:00, 12.97it/s]\n"
          ]
        },
        {
          "output_type": "stream",
          "name": "stdout",
          "text": [
            "Test set: Average loss: 0.0697, Accuracy: 9790/10000 (97.90%)\n",
            "\n",
            "5\n"
          ]
        },
        {
          "output_type": "stream",
          "name": "stderr",
          "text": [
            "loss=0.1126 batch_id=234: 100%|██████████| 235/235 [00:18<00:00, 13.02it/s]\n"
          ]
        },
        {
          "output_type": "stream",
          "name": "stdout",
          "text": [
            "Test set: Average loss: 0.0571, Accuracy: 9824/10000 (98.24%)\n",
            "\n",
            "6\n"
          ]
        },
        {
          "output_type": "stream",
          "name": "stderr",
          "text": [
            "loss=0.1545 batch_id=234: 100%|██████████| 235/235 [00:17<00:00, 13.07it/s]\n"
          ]
        },
        {
          "output_type": "stream",
          "name": "stdout",
          "text": [
            "Test set: Average loss: 0.0503, Accuracy: 9854/10000 (98.54%)\n",
            "\n",
            "7\n"
          ]
        },
        {
          "output_type": "stream",
          "name": "stderr",
          "text": [
            "loss=0.0906 batch_id=234: 100%|██████████| 235/235 [00:17<00:00, 13.08it/s]\n"
          ]
        },
        {
          "output_type": "stream",
          "name": "stdout",
          "text": [
            "Test set: Average loss: 0.0477, Accuracy: 9862/10000 (98.62%)\n",
            "\n",
            "8\n"
          ]
        },
        {
          "output_type": "stream",
          "name": "stderr",
          "text": [
            "loss=0.1409 batch_id=234: 100%|██████████| 235/235 [00:18<00:00, 13.01it/s]\n"
          ]
        },
        {
          "output_type": "stream",
          "name": "stdout",
          "text": [
            "Test set: Average loss: 0.0511, Accuracy: 9849/10000 (98.49%)\n",
            "\n",
            "9\n"
          ]
        },
        {
          "output_type": "stream",
          "name": "stderr",
          "text": [
            "loss=0.1277 batch_id=234: 100%|██████████| 235/235 [00:18<00:00, 13.03it/s]\n"
          ]
        },
        {
          "output_type": "stream",
          "name": "stdout",
          "text": [
            "Test set: Average loss: 0.0434, Accuracy: 9862/10000 (98.62%)\n",
            "\n",
            "10\n"
          ]
        },
        {
          "output_type": "stream",
          "name": "stderr",
          "text": [
            "loss=0.0832 batch_id=234: 100%|██████████| 235/235 [00:17<00:00, 13.12it/s]\n"
          ]
        },
        {
          "output_type": "stream",
          "name": "stdout",
          "text": [
            "Test set: Average loss: 0.0366, Accuracy: 9881/10000 (98.81%)\n",
            "\n",
            "11\n"
          ]
        },
        {
          "output_type": "stream",
          "name": "stderr",
          "text": [
            "loss=0.0679 batch_id=234: 100%|██████████| 235/235 [00:18<00:00, 13.02it/s]\n"
          ]
        },
        {
          "output_type": "stream",
          "name": "stdout",
          "text": [
            "Test set: Average loss: 0.0343, Accuracy: 9888/10000 (98.88%)\n",
            "\n",
            "12\n"
          ]
        },
        {
          "output_type": "stream",
          "name": "stderr",
          "text": [
            "loss=0.0946 batch_id=234: 100%|██████████| 235/235 [00:17<00:00, 13.12it/s]\n"
          ]
        },
        {
          "output_type": "stream",
          "name": "stdout",
          "text": [
            "Test set: Average loss: 0.0308, Accuracy: 9897/10000 (98.97%)\n",
            "\n",
            "13\n"
          ]
        },
        {
          "output_type": "stream",
          "name": "stderr",
          "text": [
            "loss=0.1041 batch_id=234: 100%|██████████| 235/235 [00:18<00:00, 13.00it/s]\n"
          ]
        },
        {
          "output_type": "stream",
          "name": "stdout",
          "text": [
            "Test set: Average loss: 0.0328, Accuracy: 9897/10000 (98.97%)\n",
            "\n",
            "14\n"
          ]
        },
        {
          "output_type": "stream",
          "name": "stderr",
          "text": [
            "loss=0.0450 batch_id=234: 100%|██████████| 235/235 [00:17<00:00, 13.11it/s]\n"
          ]
        },
        {
          "output_type": "stream",
          "name": "stdout",
          "text": [
            "Test set: Average loss: 0.0349, Accuracy: 9894/10000 (98.94%)\n",
            "\n",
            "15\n"
          ]
        },
        {
          "output_type": "stream",
          "name": "stderr",
          "text": [
            "loss=0.1297 batch_id=234: 100%|██████████| 235/235 [00:18<00:00, 13.05it/s]\n"
          ]
        },
        {
          "output_type": "stream",
          "name": "stdout",
          "text": [
            "Test set: Average loss: 0.0271, Accuracy: 9917/10000 (99.17%)\n",
            "\n",
            "16\n"
          ]
        },
        {
          "output_type": "stream",
          "name": "stderr",
          "text": [
            "loss=0.1363 batch_id=234: 100%|██████████| 235/235 [00:18<00:00, 13.04it/s]\n"
          ]
        },
        {
          "output_type": "stream",
          "name": "stdout",
          "text": [
            "Test set: Average loss: 0.0313, Accuracy: 9896/10000 (98.96%)\n",
            "\n",
            "17\n"
          ]
        },
        {
          "output_type": "stream",
          "name": "stderr",
          "text": [
            "loss=0.0443 batch_id=234: 100%|██████████| 235/235 [00:17<00:00, 13.07it/s]\n"
          ]
        },
        {
          "output_type": "stream",
          "name": "stdout",
          "text": [
            "Test set: Average loss: 0.0302, Accuracy: 9909/10000 (99.09%)\n",
            "\n",
            "18\n"
          ]
        },
        {
          "output_type": "stream",
          "name": "stderr",
          "text": [
            "loss=0.0396 batch_id=234: 100%|██████████| 235/235 [00:18<00:00, 13.04it/s]\n"
          ]
        },
        {
          "output_type": "stream",
          "name": "stdout",
          "text": [
            "Test set: Average loss: 0.0316, Accuracy: 9908/10000 (99.08%)\n",
            "\n",
            "19\n"
          ]
        },
        {
          "output_type": "stream",
          "name": "stderr",
          "text": [
            "loss=0.0553 batch_id=234: 100%|██████████| 235/235 [00:17<00:00, 13.09it/s]\n"
          ]
        },
        {
          "output_type": "stream",
          "name": "stdout",
          "text": [
            "Test set: Average loss: 0.0260, Accuracy: 9920/10000 (99.20%)\n",
            "\n",
            "20\n"
          ]
        },
        {
          "output_type": "stream",
          "name": "stderr",
          "text": [
            "loss=0.0783 batch_id=234: 100%|██████████| 235/235 [00:17<00:00, 13.10it/s]\n"
          ]
        },
        {
          "output_type": "stream",
          "name": "stdout",
          "text": [
            "Test set: Average loss: 0.0251, Accuracy: 9921/10000 (99.21%)\n",
            "\n"
          ]
        }
      ]
    },
    {
      "cell_type": "markdown",
      "metadata": {
        "id": "g63X-jF7wyKQ"
      },
      "source": [
        "### Layer Normalisation"
      ]
    },
    {
      "cell_type": "code",
      "metadata": {
        "colab": {
          "base_uri": "https://localhost:8080/"
        },
        "id": "3N88KgAWVHad",
        "outputId": "05a2b0a4-4bf2-420c-9cdc-3ff809ed95aa"
      },
      "source": [
        "net_ln, hist_ln = fit(model.Net(norm='ln').to(device), lr=0.01, num_epoch=20, use_l1=False, use_l2=False)"
      ],
      "execution_count": 20,
      "outputs": [
        {
          "output_type": "stream",
          "name": "stdout",
          "text": [
            "1\n"
          ]
        },
        {
          "output_type": "stream",
          "name": "stderr",
          "text": [
            "loss=0.8332 batch_id=234: 100%|██████████| 235/235 [00:18<00:00, 12.96it/s]\n"
          ]
        },
        {
          "output_type": "stream",
          "name": "stdout",
          "text": [
            "Test set: Average loss: 0.5979, Accuracy: 8384/10000 (83.84%)\n",
            "\n",
            "2\n"
          ]
        },
        {
          "output_type": "stream",
          "name": "stderr",
          "text": [
            "loss=0.4041 batch_id=234: 100%|██████████| 235/235 [00:18<00:00, 13.04it/s]\n"
          ]
        },
        {
          "output_type": "stream",
          "name": "stdout",
          "text": [
            "Test set: Average loss: 0.2195, Accuracy: 9452/10000 (94.52%)\n",
            "\n",
            "3\n"
          ]
        },
        {
          "output_type": "stream",
          "name": "stderr",
          "text": [
            "loss=0.3324 batch_id=234: 100%|██████████| 235/235 [00:17<00:00, 13.09it/s]\n"
          ]
        },
        {
          "output_type": "stream",
          "name": "stdout",
          "text": [
            "Test set: Average loss: 0.1293, Accuracy: 9653/10000 (96.53%)\n",
            "\n",
            "4\n"
          ]
        },
        {
          "output_type": "stream",
          "name": "stderr",
          "text": [
            "loss=0.1859 batch_id=234: 100%|██████████| 235/235 [00:17<00:00, 13.08it/s]\n"
          ]
        },
        {
          "output_type": "stream",
          "name": "stdout",
          "text": [
            "Test set: Average loss: 0.0889, Accuracy: 9740/10000 (97.40%)\n",
            "\n",
            "5\n"
          ]
        },
        {
          "output_type": "stream",
          "name": "stderr",
          "text": [
            "loss=0.2696 batch_id=234: 100%|██████████| 235/235 [00:18<00:00, 13.04it/s]\n"
          ]
        },
        {
          "output_type": "stream",
          "name": "stdout",
          "text": [
            "Test set: Average loss: 0.0861, Accuracy: 9760/10000 (97.60%)\n",
            "\n",
            "6\n"
          ]
        },
        {
          "output_type": "stream",
          "name": "stderr",
          "text": [
            "loss=0.1182 batch_id=234: 100%|██████████| 235/235 [00:17<00:00, 13.11it/s]\n"
          ]
        },
        {
          "output_type": "stream",
          "name": "stdout",
          "text": [
            "Test set: Average loss: 0.0611, Accuracy: 9805/10000 (98.05%)\n",
            "\n",
            "7\n"
          ]
        },
        {
          "output_type": "stream",
          "name": "stderr",
          "text": [
            "loss=0.2173 batch_id=234: 100%|██████████| 235/235 [00:17<00:00, 13.21it/s]\n"
          ]
        },
        {
          "output_type": "stream",
          "name": "stdout",
          "text": [
            "Test set: Average loss: 0.0555, Accuracy: 9821/10000 (98.21%)\n",
            "\n",
            "8\n"
          ]
        },
        {
          "output_type": "stream",
          "name": "stderr",
          "text": [
            "loss=0.1880 batch_id=234: 100%|██████████| 235/235 [00:17<00:00, 13.07it/s]\n"
          ]
        },
        {
          "output_type": "stream",
          "name": "stdout",
          "text": [
            "Test set: Average loss: 0.0660, Accuracy: 9817/10000 (98.17%)\n",
            "\n",
            "9\n"
          ]
        },
        {
          "output_type": "stream",
          "name": "stderr",
          "text": [
            "loss=0.0596 batch_id=234: 100%|██████████| 235/235 [00:17<00:00, 13.12it/s]\n"
          ]
        },
        {
          "output_type": "stream",
          "name": "stdout",
          "text": [
            "Test set: Average loss: 0.0476, Accuracy: 9859/10000 (98.59%)\n",
            "\n",
            "10\n"
          ]
        },
        {
          "output_type": "stream",
          "name": "stderr",
          "text": [
            "loss=0.1239 batch_id=234: 100%|██████████| 235/235 [00:17<00:00, 13.08it/s]\n"
          ]
        },
        {
          "output_type": "stream",
          "name": "stdout",
          "text": [
            "Test set: Average loss: 0.0467, Accuracy: 9850/10000 (98.50%)\n",
            "\n",
            "11\n"
          ]
        },
        {
          "output_type": "stream",
          "name": "stderr",
          "text": [
            "loss=0.0518 batch_id=234: 100%|██████████| 235/235 [00:18<00:00, 12.96it/s]\n"
          ]
        },
        {
          "output_type": "stream",
          "name": "stdout",
          "text": [
            "Test set: Average loss: 0.0416, Accuracy: 9869/10000 (98.69%)\n",
            "\n",
            "12\n"
          ]
        },
        {
          "output_type": "stream",
          "name": "stderr",
          "text": [
            "loss=0.1071 batch_id=234: 100%|██████████| 235/235 [00:17<00:00, 13.10it/s]\n"
          ]
        },
        {
          "output_type": "stream",
          "name": "stdout",
          "text": [
            "Test set: Average loss: 0.0388, Accuracy: 9879/10000 (98.79%)\n",
            "\n",
            "13\n"
          ]
        },
        {
          "output_type": "stream",
          "name": "stderr",
          "text": [
            "loss=0.0785 batch_id=234: 100%|██████████| 235/235 [00:18<00:00, 13.02it/s]\n"
          ]
        },
        {
          "output_type": "stream",
          "name": "stdout",
          "text": [
            "Test set: Average loss: 0.0390, Accuracy: 9892/10000 (98.92%)\n",
            "\n",
            "14\n"
          ]
        },
        {
          "output_type": "stream",
          "name": "stderr",
          "text": [
            "loss=0.0908 batch_id=234: 100%|██████████| 235/235 [00:17<00:00, 13.08it/s]\n"
          ]
        },
        {
          "output_type": "stream",
          "name": "stdout",
          "text": [
            "Test set: Average loss: 0.0360, Accuracy: 9896/10000 (98.96%)\n",
            "\n",
            "15\n"
          ]
        },
        {
          "output_type": "stream",
          "name": "stderr",
          "text": [
            "loss=0.1121 batch_id=234: 100%|██████████| 235/235 [00:17<00:00, 13.19it/s]\n"
          ]
        },
        {
          "output_type": "stream",
          "name": "stdout",
          "text": [
            "Test set: Average loss: 0.0366, Accuracy: 9891/10000 (98.91%)\n",
            "\n",
            "16\n"
          ]
        },
        {
          "output_type": "stream",
          "name": "stderr",
          "text": [
            "loss=0.1057 batch_id=234: 100%|██████████| 235/235 [00:17<00:00, 13.09it/s]\n"
          ]
        },
        {
          "output_type": "stream",
          "name": "stdout",
          "text": [
            "Test set: Average loss: 0.0323, Accuracy: 9898/10000 (98.98%)\n",
            "\n",
            "17\n"
          ]
        },
        {
          "output_type": "stream",
          "name": "stderr",
          "text": [
            "loss=0.0289 batch_id=234: 100%|██████████| 235/235 [00:17<00:00, 13.18it/s]\n"
          ]
        },
        {
          "output_type": "stream",
          "name": "stdout",
          "text": [
            "Test set: Average loss: 0.0346, Accuracy: 9894/10000 (98.94%)\n",
            "\n",
            "18\n"
          ]
        },
        {
          "output_type": "stream",
          "name": "stderr",
          "text": [
            "loss=0.1107 batch_id=234: 100%|██████████| 235/235 [00:17<00:00, 13.16it/s]\n"
          ]
        },
        {
          "output_type": "stream",
          "name": "stdout",
          "text": [
            "Test set: Average loss: 0.0330, Accuracy: 9906/10000 (99.06%)\n",
            "\n",
            "19\n"
          ]
        },
        {
          "output_type": "stream",
          "name": "stderr",
          "text": [
            "loss=0.1206 batch_id=234: 100%|██████████| 235/235 [00:17<00:00, 13.19it/s]\n"
          ]
        },
        {
          "output_type": "stream",
          "name": "stdout",
          "text": [
            "Test set: Average loss: 0.0320, Accuracy: 9905/10000 (99.05%)\n",
            "\n",
            "20\n"
          ]
        },
        {
          "output_type": "stream",
          "name": "stderr",
          "text": [
            "loss=0.0282 batch_id=234: 100%|██████████| 235/235 [00:18<00:00, 13.04it/s]\n"
          ]
        },
        {
          "output_type": "stream",
          "name": "stdout",
          "text": [
            "Test set: Average loss: 0.0289, Accuracy: 9915/10000 (99.15%)\n",
            "\n"
          ]
        }
      ]
    },
    {
      "cell_type": "markdown",
      "metadata": {
        "id": "jGd73Avxw6H1"
      },
      "source": [
        "### Batch Normalisation and L1"
      ]
    },
    {
      "cell_type": "code",
      "metadata": {
        "colab": {
          "base_uri": "https://localhost:8080/"
        },
        "id": "YCe5iOBsVHl8",
        "outputId": "5ff2f21b-2240-47a8-fe78-aecc6c11d814"
      },
      "source": [
        "net_ln, hist_l1 = fit(model.Net(norm='bn').to(device), lr=0.01, num_epoch=20, use_l1=True, use_l2=False)"
      ],
      "execution_count": 21,
      "outputs": [
        {
          "output_type": "stream",
          "name": "stdout",
          "text": [
            "1\n"
          ]
        },
        {
          "output_type": "stream",
          "name": "stderr",
          "text": [
            "loss=2.7508 batch_id=234: 100%|██████████| 235/235 [00:18<00:00, 12.88it/s]\n"
          ]
        },
        {
          "output_type": "stream",
          "name": "stdout",
          "text": [
            "Test set: Average loss: 2.3026, Accuracy: 1010/10000 (10.10%)\n",
            "\n",
            "2\n"
          ]
        },
        {
          "output_type": "stream",
          "name": "stderr",
          "text": [
            "loss=2.6772 batch_id=234: 100%|██████████| 235/235 [00:18<00:00, 12.88it/s]\n"
          ]
        },
        {
          "output_type": "stream",
          "name": "stdout",
          "text": [
            "Test set: Average loss: 2.3026, Accuracy: 958/10000 (9.58%)\n",
            "\n",
            "3\n"
          ]
        },
        {
          "output_type": "stream",
          "name": "stderr",
          "text": [
            "loss=2.6761 batch_id=234: 100%|██████████| 235/235 [00:18<00:00, 12.88it/s]\n"
          ]
        },
        {
          "output_type": "stream",
          "name": "stdout",
          "text": [
            "Test set: Average loss: 2.3026, Accuracy: 1032/10000 (10.32%)\n",
            "\n",
            "4\n"
          ]
        },
        {
          "output_type": "stream",
          "name": "stderr",
          "text": [
            "loss=2.6793 batch_id=234: 100%|██████████| 235/235 [00:18<00:00, 12.94it/s]\n"
          ]
        },
        {
          "output_type": "stream",
          "name": "stdout",
          "text": [
            "Test set: Average loss: 2.3026, Accuracy: 980/10000 (9.80%)\n",
            "\n",
            "5\n"
          ]
        },
        {
          "output_type": "stream",
          "name": "stderr",
          "text": [
            "loss=2.6754 batch_id=234: 100%|██████████| 235/235 [00:18<00:00, 12.88it/s]\n"
          ]
        },
        {
          "output_type": "stream",
          "name": "stdout",
          "text": [
            "Test set: Average loss: 2.3026, Accuracy: 982/10000 (9.82%)\n",
            "\n",
            "6\n"
          ]
        },
        {
          "output_type": "stream",
          "name": "stderr",
          "text": [
            "loss=2.6779 batch_id=234: 100%|██████████| 235/235 [00:18<00:00, 12.81it/s]\n"
          ]
        },
        {
          "output_type": "stream",
          "name": "stdout",
          "text": [
            "Test set: Average loss: 2.3026, Accuracy: 1032/10000 (10.32%)\n",
            "\n",
            "7\n"
          ]
        },
        {
          "output_type": "stream",
          "name": "stderr",
          "text": [
            "loss=2.6783 batch_id=234: 100%|██████████| 235/235 [00:18<00:00, 12.83it/s]\n"
          ]
        },
        {
          "output_type": "stream",
          "name": "stdout",
          "text": [
            "Test set: Average loss: 2.3026, Accuracy: 1028/10000 (10.28%)\n",
            "\n",
            "8\n"
          ]
        },
        {
          "output_type": "stream",
          "name": "stderr",
          "text": [
            "loss=2.6784 batch_id=234: 100%|██████████| 235/235 [00:18<00:00, 12.90it/s]\n"
          ]
        },
        {
          "output_type": "stream",
          "name": "stdout",
          "text": [
            "Test set: Average loss: 2.3026, Accuracy: 1028/10000 (10.28%)\n",
            "\n",
            "9\n"
          ]
        },
        {
          "output_type": "stream",
          "name": "stderr",
          "text": [
            "loss=2.6750 batch_id=234: 100%|██████████| 235/235 [00:18<00:00, 12.84it/s]\n"
          ]
        },
        {
          "output_type": "stream",
          "name": "stdout",
          "text": [
            "Test set: Average loss: 2.3025, Accuracy: 1010/10000 (10.10%)\n",
            "\n",
            "10\n"
          ]
        },
        {
          "output_type": "stream",
          "name": "stderr",
          "text": [
            "loss=2.6734 batch_id=234: 100%|██████████| 235/235 [00:18<00:00, 13.01it/s]\n"
          ]
        },
        {
          "output_type": "stream",
          "name": "stdout",
          "text": [
            "Test set: Average loss: 2.3026, Accuracy: 1032/10000 (10.32%)\n",
            "\n",
            "11\n"
          ]
        },
        {
          "output_type": "stream",
          "name": "stderr",
          "text": [
            "loss=2.6769 batch_id=234: 100%|██████████| 235/235 [00:18<00:00, 12.85it/s]\n"
          ]
        },
        {
          "output_type": "stream",
          "name": "stdout",
          "text": [
            "Test set: Average loss: 2.3025, Accuracy: 1010/10000 (10.10%)\n",
            "\n",
            "12\n"
          ]
        },
        {
          "output_type": "stream",
          "name": "stderr",
          "text": [
            "loss=2.6747 batch_id=234: 100%|██████████| 235/235 [00:18<00:00, 12.78it/s]\n"
          ]
        },
        {
          "output_type": "stream",
          "name": "stdout",
          "text": [
            "Test set: Average loss: 2.3025, Accuracy: 980/10000 (9.80%)\n",
            "\n",
            "13\n"
          ]
        },
        {
          "output_type": "stream",
          "name": "stderr",
          "text": [
            "loss=2.6768 batch_id=234: 100%|██████████| 235/235 [00:18<00:00, 12.91it/s]\n"
          ]
        },
        {
          "output_type": "stream",
          "name": "stdout",
          "text": [
            "Test set: Average loss: 2.3026, Accuracy: 980/10000 (9.80%)\n",
            "\n",
            "14\n"
          ]
        },
        {
          "output_type": "stream",
          "name": "stderr",
          "text": [
            "loss=2.6814 batch_id=234: 100%|██████████| 235/235 [00:18<00:00, 12.81it/s]\n"
          ]
        },
        {
          "output_type": "stream",
          "name": "stdout",
          "text": [
            "Test set: Average loss: 2.3026, Accuracy: 980/10000 (9.80%)\n",
            "\n",
            "15\n"
          ]
        },
        {
          "output_type": "stream",
          "name": "stderr",
          "text": [
            "loss=2.6767 batch_id=234: 100%|██████████| 235/235 [00:18<00:00, 12.93it/s]\n"
          ]
        },
        {
          "output_type": "stream",
          "name": "stdout",
          "text": [
            "Test set: Average loss: 2.3026, Accuracy: 892/10000 (8.92%)\n",
            "\n",
            "16\n"
          ]
        },
        {
          "output_type": "stream",
          "name": "stderr",
          "text": [
            "loss=2.6795 batch_id=234: 100%|██████████| 235/235 [00:18<00:00, 12.92it/s]\n"
          ]
        },
        {
          "output_type": "stream",
          "name": "stdout",
          "text": [
            "Test set: Average loss: 2.3026, Accuracy: 1028/10000 (10.28%)\n",
            "\n",
            "17\n"
          ]
        },
        {
          "output_type": "stream",
          "name": "stderr",
          "text": [
            "loss=2.6753 batch_id=234: 100%|██████████| 235/235 [00:18<00:00, 12.93it/s]\n"
          ]
        },
        {
          "output_type": "stream",
          "name": "stdout",
          "text": [
            "Test set: Average loss: 2.3026, Accuracy: 1028/10000 (10.28%)\n",
            "\n",
            "18\n"
          ]
        },
        {
          "output_type": "stream",
          "name": "stderr",
          "text": [
            "loss=2.6775 batch_id=234: 100%|██████████| 235/235 [00:18<00:00, 12.94it/s]\n"
          ]
        },
        {
          "output_type": "stream",
          "name": "stdout",
          "text": [
            "Test set: Average loss: 2.3026, Accuracy: 1032/10000 (10.32%)\n",
            "\n",
            "19\n"
          ]
        },
        {
          "output_type": "stream",
          "name": "stderr",
          "text": [
            "loss=2.6800 batch_id=234: 100%|██████████| 235/235 [00:18<00:00, 12.89it/s]\n"
          ]
        },
        {
          "output_type": "stream",
          "name": "stdout",
          "text": [
            "Test set: Average loss: 2.3026, Accuracy: 1032/10000 (10.32%)\n",
            "\n",
            "20\n"
          ]
        },
        {
          "output_type": "stream",
          "name": "stderr",
          "text": [
            "loss=2.6762 batch_id=234: 100%|██████████| 235/235 [00:18<00:00, 12.93it/s]\n"
          ]
        },
        {
          "output_type": "stream",
          "name": "stdout",
          "text": [
            "Test set: Average loss: 2.3026, Accuracy: 1135/10000 (11.35%)\n",
            "\n"
          ]
        }
      ]
    },
    {
      "cell_type": "markdown",
      "metadata": {
        "id": "EKN_vXc0ylhS"
      },
      "source": [
        "### Batch Normalisation and L2"
      ]
    },
    {
      "cell_type": "code",
      "metadata": {
        "colab": {
          "base_uri": "https://localhost:8080/"
        },
        "id": "E77sCQbsykWo",
        "outputId": "aee44686-a3e6-41f9-bb7d-8b0a1cb73cbe"
      },
      "source": [
        "net_ln, hist_l2 = fit(model.Net(norm='bn').to(device), lr=0.01, num_epoch=20, use_l1=False, use_l2=True)"
      ],
      "execution_count": 22,
      "outputs": [
        {
          "output_type": "stream",
          "name": "stdout",
          "text": [
            "1\n"
          ]
        },
        {
          "output_type": "stream",
          "name": "stderr",
          "text": [
            "loss=0.7267 batch_id=234: 100%|██████████| 235/235 [00:17<00:00, 13.27it/s]\n"
          ]
        },
        {
          "output_type": "stream",
          "name": "stdout",
          "text": [
            "Test set: Average loss: 0.4337, Accuracy: 9346/10000 (93.46%)\n",
            "\n",
            "2\n"
          ]
        },
        {
          "output_type": "stream",
          "name": "stderr",
          "text": [
            "loss=0.2254 batch_id=234: 100%|██████████| 235/235 [00:17<00:00, 13.34it/s]\n"
          ]
        },
        {
          "output_type": "stream",
          "name": "stdout",
          "text": [
            "Test set: Average loss: 0.1487, Accuracy: 9666/10000 (96.66%)\n",
            "\n",
            "3\n"
          ]
        },
        {
          "output_type": "stream",
          "name": "stderr",
          "text": [
            "loss=0.1745 batch_id=234: 100%|██████████| 235/235 [00:17<00:00, 13.47it/s]\n"
          ]
        },
        {
          "output_type": "stream",
          "name": "stdout",
          "text": [
            "Test set: Average loss: 0.0879, Accuracy: 9769/10000 (97.69%)\n",
            "\n",
            "4\n"
          ]
        },
        {
          "output_type": "stream",
          "name": "stderr",
          "text": [
            "loss=0.1977 batch_id=234: 100%|██████████| 235/235 [00:17<00:00, 13.42it/s]\n"
          ]
        },
        {
          "output_type": "stream",
          "name": "stdout",
          "text": [
            "Test set: Average loss: 0.0689, Accuracy: 9811/10000 (98.11%)\n",
            "\n",
            "5\n"
          ]
        },
        {
          "output_type": "stream",
          "name": "stderr",
          "text": [
            "loss=0.1042 batch_id=234: 100%|██████████| 235/235 [00:17<00:00, 13.45it/s]\n"
          ]
        },
        {
          "output_type": "stream",
          "name": "stdout",
          "text": [
            "Test set: Average loss: 0.0582, Accuracy: 9829/10000 (98.29%)\n",
            "\n",
            "6\n"
          ]
        },
        {
          "output_type": "stream",
          "name": "stderr",
          "text": [
            "loss=0.1165 batch_id=234: 100%|██████████| 235/235 [00:17<00:00, 13.46it/s]\n"
          ]
        },
        {
          "output_type": "stream",
          "name": "stdout",
          "text": [
            "Test set: Average loss: 0.0531, Accuracy: 9848/10000 (98.48%)\n",
            "\n",
            "7\n"
          ]
        },
        {
          "output_type": "stream",
          "name": "stderr",
          "text": [
            "loss=0.1453 batch_id=234: 100%|██████████| 235/235 [00:17<00:00, 13.31it/s]\n"
          ]
        },
        {
          "output_type": "stream",
          "name": "stdout",
          "text": [
            "Test set: Average loss: 0.0475, Accuracy: 9844/10000 (98.44%)\n",
            "\n",
            "8\n"
          ]
        },
        {
          "output_type": "stream",
          "name": "stderr",
          "text": [
            "loss=0.1080 batch_id=234: 100%|██████████| 235/235 [00:17<00:00, 13.40it/s]\n"
          ]
        },
        {
          "output_type": "stream",
          "name": "stdout",
          "text": [
            "Test set: Average loss: 0.0420, Accuracy: 9877/10000 (98.77%)\n",
            "\n",
            "9\n"
          ]
        },
        {
          "output_type": "stream",
          "name": "stderr",
          "text": [
            "loss=0.0724 batch_id=234: 100%|██████████| 235/235 [00:17<00:00, 13.52it/s]\n"
          ]
        },
        {
          "output_type": "stream",
          "name": "stdout",
          "text": [
            "Test set: Average loss: 0.0417, Accuracy: 9884/10000 (98.84%)\n",
            "\n",
            "10\n"
          ]
        },
        {
          "output_type": "stream",
          "name": "stderr",
          "text": [
            "loss=0.0466 batch_id=234: 100%|██████████| 235/235 [00:17<00:00, 13.38it/s]\n"
          ]
        },
        {
          "output_type": "stream",
          "name": "stdout",
          "text": [
            "Test set: Average loss: 0.0396, Accuracy: 9874/10000 (98.74%)\n",
            "\n",
            "11\n"
          ]
        },
        {
          "output_type": "stream",
          "name": "stderr",
          "text": [
            "loss=0.1123 batch_id=234: 100%|██████████| 235/235 [00:17<00:00, 13.43it/s]\n"
          ]
        },
        {
          "output_type": "stream",
          "name": "stdout",
          "text": [
            "Test set: Average loss: 0.0361, Accuracy: 9882/10000 (98.82%)\n",
            "\n",
            "12\n"
          ]
        },
        {
          "output_type": "stream",
          "name": "stderr",
          "text": [
            "loss=0.0876 batch_id=234: 100%|██████████| 235/235 [00:17<00:00, 13.38it/s]\n"
          ]
        },
        {
          "output_type": "stream",
          "name": "stdout",
          "text": [
            "Test set: Average loss: 0.0334, Accuracy: 9890/10000 (98.90%)\n",
            "\n",
            "13\n"
          ]
        },
        {
          "output_type": "stream",
          "name": "stderr",
          "text": [
            "loss=0.1524 batch_id=234: 100%|██████████| 235/235 [00:17<00:00, 13.36it/s]\n"
          ]
        },
        {
          "output_type": "stream",
          "name": "stdout",
          "text": [
            "Test set: Average loss: 0.0328, Accuracy: 9896/10000 (98.96%)\n",
            "\n",
            "14\n"
          ]
        },
        {
          "output_type": "stream",
          "name": "stderr",
          "text": [
            "loss=0.0760 batch_id=234: 100%|██████████| 235/235 [00:17<00:00, 13.38it/s]\n"
          ]
        },
        {
          "output_type": "stream",
          "name": "stdout",
          "text": [
            "Test set: Average loss: 0.0341, Accuracy: 9896/10000 (98.96%)\n",
            "\n",
            "15\n"
          ]
        },
        {
          "output_type": "stream",
          "name": "stderr",
          "text": [
            "loss=0.1251 batch_id=234: 100%|██████████| 235/235 [00:17<00:00, 13.41it/s]\n"
          ]
        },
        {
          "output_type": "stream",
          "name": "stdout",
          "text": [
            "Test set: Average loss: 0.0335, Accuracy: 9896/10000 (98.96%)\n",
            "\n",
            "16\n"
          ]
        },
        {
          "output_type": "stream",
          "name": "stderr",
          "text": [
            "loss=0.0891 batch_id=234: 100%|██████████| 235/235 [00:17<00:00, 13.40it/s]\n"
          ]
        },
        {
          "output_type": "stream",
          "name": "stdout",
          "text": [
            "Test set: Average loss: 0.0309, Accuracy: 9899/10000 (98.99%)\n",
            "\n",
            "17\n"
          ]
        },
        {
          "output_type": "stream",
          "name": "stderr",
          "text": [
            "loss=0.0768 batch_id=234: 100%|██████████| 235/235 [00:17<00:00, 13.38it/s]\n"
          ]
        },
        {
          "output_type": "stream",
          "name": "stdout",
          "text": [
            "Test set: Average loss: 0.0292, Accuracy: 9915/10000 (99.15%)\n",
            "\n",
            "18\n"
          ]
        },
        {
          "output_type": "stream",
          "name": "stderr",
          "text": [
            "loss=0.0695 batch_id=234: 100%|██████████| 235/235 [00:17<00:00, 13.35it/s]\n"
          ]
        },
        {
          "output_type": "stream",
          "name": "stdout",
          "text": [
            "Test set: Average loss: 0.0277, Accuracy: 9910/10000 (99.10%)\n",
            "\n",
            "19\n"
          ]
        },
        {
          "output_type": "stream",
          "name": "stderr",
          "text": [
            "loss=0.1074 batch_id=234: 100%|██████████| 235/235 [00:17<00:00, 13.58it/s]\n"
          ]
        },
        {
          "output_type": "stream",
          "name": "stdout",
          "text": [
            "Test set: Average loss: 0.0311, Accuracy: 9909/10000 (99.09%)\n",
            "\n",
            "20\n"
          ]
        },
        {
          "output_type": "stream",
          "name": "stderr",
          "text": [
            "loss=0.1171 batch_id=234: 100%|██████████| 235/235 [00:17<00:00, 13.35it/s]\n"
          ]
        },
        {
          "output_type": "stream",
          "name": "stdout",
          "text": [
            "Test set: Average loss: 0.0280, Accuracy: 9915/10000 (99.15%)\n",
            "\n"
          ]
        }
      ]
    },
    {
      "cell_type": "code",
      "metadata": {
        "id": "u15ANoccyk9A"
      },
      "source": [
        ""
      ],
      "execution_count": null,
      "outputs": []
    },
    {
      "cell_type": "code",
      "metadata": {
        "id": "QE8Q_wI-VHwe"
      },
      "source": [
        ""
      ],
      "execution_count": null,
      "outputs": []
    },
    {
      "cell_type": "markdown",
      "metadata": {
        "id": "pDw4SSmnRKqj"
      },
      "source": [
        "## Plotting the Loss curve and Accuracy for different EPOCHS\n",
        "\n"
      ]
    },
    {
      "cell_type": "code",
      "metadata": {
        "id": "vSvPvfV5T1Mu"
      },
      "source": [
        "def plot_history(h, norm):\n",
        "  # Ploting the graphs for loss and accuracy \n",
        "  # For loss and epochs\n",
        "  plt.figure(figsize=(14,5))\n",
        "  plt.title(norm)\n",
        "  \n",
        "  plt.subplot(1,2,1)\n",
        "  plt.plot(h['train_loss'], label='Training Loss') # plotting the training loss\n",
        "  plt.plot(h['test_loss'], label='Test Loss') # plotting the testing loss\n",
        "  # putting the labels on plot\n",
        "  plt.title('Loss vs Epoch')\n",
        "  plt.xlabel('Epochs')\n",
        "  plt.ylabel('Loss')\n",
        "  plt.grid()\n",
        "  plt.legend()\n",
        "\n",
        "  # For accuracy and epochs\n",
        "  plt.subplot(1,2,2)\n",
        "  plt.plot(h['train_accuracy'], label='Training Accuracy') # plotting the training accuracy\n",
        "  plt.plot(h['test_accuracy'], label='Test Accuracy') # plotting the testing accuracy\n",
        "  # putting the labels in plot\n",
        "  plt.title('Accuracy vs Epoch')\n",
        "  plt.xlabel('Epochs')\n",
        "  plt.ylabel('Accuracy')\n",
        "  plt.grid()\n",
        "  plt.legend()\n",
        "\n",
        "  plt.show()"
      ],
      "execution_count": 10,
      "outputs": []
    },
    {
      "cell_type": "code",
      "metadata": {
        "colab": {
          "base_uri": "https://localhost:8080/",
          "height": 285
        },
        "id": "K42I17HCR7HC",
        "outputId": "e11119e8-0d32-4a40-ce54-32295f89f83e"
      },
      "source": [
        "# Plot for Batch Normalisation\n",
        "plot_history(hist_bn, norm = 'bn')"
      ],
      "execution_count": 11,
      "outputs": [
        {
          "output_type": "display_data",
          "data": {
            "image/png": "[encoded data removed]",
            "text/plain": [
              "<Figure size 1008x360 with 2 Axes>"
            ]
          },
          "metadata": {
            "needs_background": "light"
          }
        }
      ]
    },
    {
      "cell_type": "code",
      "metadata": {
        "colab": {
          "base_uri": "https://localhost:8080/",
          "height": 285
        },
        "id": "cpOSHpAMUoRA",
        "outputId": "31ecb0ad-6a5e-4f06-eed0-50ac5a20524c"
      },
      "source": [
        "# Plot for Group Normalisation\n",
        "plot_history(hist_gn, norm = 'gn')"
      ],
      "execution_count": 23,
      "outputs": [
        {
          "output_type": "display_data",
          "data": {
            "image/png": "[encoded data removed]",
            "text/plain": [
              "<Figure size 1008x360 with 2 Axes>"
            ]
          },
          "metadata": {
            "needs_background": "light"
          }
        }
      ]
    },
    {
      "cell_type": "code",
      "metadata": {
        "colab": {
          "base_uri": "https://localhost:8080/",
          "height": 285
        },
        "id": "TS-SKoz93K1O",
        "outputId": "9f2a0057-68ef-4ed9-9c1d-fb4302d7a100"
      },
      "source": [
        "# Plot for Layer Normalisation\n",
        "plot_history(hist_ln, norm = 'ln')"
      ],
      "execution_count": 24,
      "outputs": [
        {
          "output_type": "display_data",
          "data": {
            "image/png": "[encoded data removed]",
            "text/plain": [
              "<Figure size 1008x360 with 2 Axes>"
            ]
          },
          "metadata": {
            "needs_background": "light"
          }
        }
      ]
    },
    {
      "cell_type": "code",
      "metadata": {
        "colab": {
          "base_uri": "https://localhost:8080/",
          "height": 350
        },
        "id": "wyXfL5Vg3K-Q",
        "outputId": "6c2ab9d7-7707-4e37-d1a8-af54d0d66916"
      },
      "source": [
        "# Plot for Batch Normalisation + L1\n",
        "plot_history(hist_l1, norm = 'bn')"
      ],
      "execution_count": null,
      "outputs": [
        {
          "data": {
            "image/png": "[encoded data removed]",
            "text/plain": [
              "<Figure size 1008x360 with 2 Axes>"
            ]
          },
          "metadata": {},
          "output_type": "display_data"
        }
      ]
    },
    {
      "cell_type": "code",
      "metadata": {
        "colab": {
          "base_uri": "https://localhost:8080/",
          "height": 285
        },
        "id": "7D08YyOx3bc7",
        "outputId": "f5b61f5b-d4d2-4494-eab4-0d00c2a45370"
      },
      "source": [
        "# Plot for Batch Normalisation + L2\n",
        "plot_history(hist_l2, norm = 'bn')"
      ],
      "execution_count": 25,
      "outputs": [
        {
          "output_type": "display_data",
          "data": {
            "image/png": "[encoded data removed]",
            "text/plain": [
              "<Figure size 1008x360 with 2 Axes>"
            ]
          },
          "metadata": {
            "needs_background": "light"
          }
        }
      ]
    },
    {
      "cell_type": "code",
      "metadata": {
        "id": "mGCxzX603gaD"
      },
      "source": [
        "### Visualising the misclassified Data while using Batch Normalisation"
      ],
      "execution_count": 26,
      "outputs": []
    },
    {
      "cell_type": "code",
      "metadata": {
        "id": "zR6m_7NwT1RR"
      },
      "source": [
        "def plot_misclassified(net, data_loader, plot_title, num_images=20, row=4, col=5):\n",
        "  count = 0\n",
        "  k = 0\n",
        "  row, col = row, col\n",
        "  fig = plt.figure(figsize=(col*2, row*3))\n",
        "  while count<num_images:\n",
        "    img, label = data_loader.dataset[k]\n",
        "    pred = net(img.unsqueeze(0).to(device)).argmax().item()\n",
        "\n",
        "    if pred!=label:\n",
        "      count+=1\n",
        "      fig.add_subplot(row, col, count)\n",
        "      plt.suptitle(plot_title)\n",
        "      plt.title(f\"Ground Truth :{label}\\n Prediction: {pred}\")\n",
        "      plt.imshow(img.squeeze(0), cmap='gray')\n",
        "      plt.axis('off')\n",
        "    k += 1\n",
        "  plt.tight_layout()\n",
        "  plt.show()\n"
      ],
      "execution_count": 27,
      "outputs": []
    },
    {
      "cell_type": "code",
      "metadata": {
        "colab": {
          "base_uri": "https://localhost:8080/",
          "height": 778
        },
        "id": "aRsQaTwM_YFp",
        "outputId": "e6ef76b8-74f7-4e4e-a984-ebc86b760f09"
      },
      "source": [
        "plot_misclassified(model.Net(norm='bn').to(device), test_set, plot_title='Batch Norm')"
      ],
      "execution_count": 16,
      "outputs": [
        {
          "output_type": "display_data",
          "data": {
            "image/png": "[encoded data removed]",
            "text/plain": [
              "<Figure size 720x864 with 20 Axes>"
            ]
          },
          "metadata": {
            "needs_background": "light"
          }
        }
      ]
    },
    {
      "cell_type": "code",
      "metadata": {
        "id": "9BZ0L9Y3-4ih"
      },
      "source": [
        "### Visualising the classified Data while using Batch Normalisation"
      ],
      "execution_count": null,
      "outputs": []
    },
    {
      "cell_type": "code",
      "metadata": {
        "id": "wEAmGRL4_h3X"
      },
      "source": [
        "def plot_classified(net, data_loader, plot_title, num_images=20, row=4, col=5):\n",
        "  count = 0\n",
        "  k = 0\n",
        "  row, col = row, col\n",
        "  fig = plt.figure(figsize=(col*2, row*3))\n",
        "  while count<num_images:\n",
        "    img, label = data_loader.dataset[k]\n",
        "    pred = net(img.unsqueeze(0).to(device)).argmax().item()\n",
        "\n",
        "    if pred ==label:\n",
        "      count+=1\n",
        "      fig.add_subplot(row, col, count)\n",
        "      plt.suptitle(plot_title)\n",
        "      plt.title(f\"Ground Truth :{label}\\n Prediction: {pred}\")\n",
        "      plt.imshow(img.squeeze(0), cmap='gray')\n",
        "      plt.axis('off')\n",
        "    k += 1\n",
        "  plt.tight_layout()\n",
        "  plt.show()"
      ],
      "execution_count": 17,
      "outputs": []
    },
    {
      "cell_type": "code",
      "metadata": {
        "colab": {
          "base_uri": "https://localhost:8080/",
          "height": 778
        },
        "id": "PG29yZqW_D5U",
        "outputId": "de63bbb2-349a-4ca2-e7bc-ea06c65625e1"
      },
      "source": [
        "plot_classified(model.Net(norm='bn').to(device), test_set, plot_title='Batch Norm')"
      ],
      "execution_count": 18,
      "outputs": [
        {
          "output_type": "display_data",
          "data": {
            "image/png": "[encoded data removed]",
            "text/plain": [
              "<Figure size 720x864 with 20 Axes>"
            ]
          },
          "metadata": {
            "needs_background": "light"
          }
        }
      ]
    }
  ]
}