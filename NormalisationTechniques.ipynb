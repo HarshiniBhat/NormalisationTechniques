{
  "nbformat": 4,
  "nbformat_minor": 0,
  "metadata": {
    "accelerator": "GPU",
    "colab": {
      "name": "NormalisationTechniques.ipynb",
      "provenance": [],
      "collapsed_sections": []
    },
    "kernelspec": {
      "display_name": "Python 3",
      "name": "python3"
    },
    "language_info": {
      "name": "python"
    },
    "widgets": {
      "application/vnd.jupyter.widget-state+json": {
        "9cdb6726ff264331a12ec0e5a81098f8": {
          "model_module": "@jupyter-widgets/controls",
          "model_name": "HBoxModel",
          "model_module_version": "1.5.0",
          "state": {
            "_dom_classes": [],
            "_model_module": "@jupyter-widgets/controls",
            "_model_module_version": "1.5.0",
            "_model_name": "HBoxModel",
            "_view_count": null,
            "_view_module": "@jupyter-widgets/controls",
            "_view_module_version": "1.5.0",
            "_view_name": "HBoxView",
            "box_style": "",
            "children": [
              "IPY_MODEL_93b39a40351b4c06839000e0d588a611",
              "IPY_MODEL_3b82100595534431b62aa99cc8f3d05c",
              "IPY_MODEL_90c42bca3ff5413e90fb361ee620fea9"
            ],
            "layout": "IPY_MODEL_b981426e17fc498f94880954fd38db5a"
          }
        },
        "93b39a40351b4c06839000e0d588a611": {
          "model_module": "@jupyter-widgets/controls",
          "model_name": "HTMLModel",
          "model_module_version": "1.5.0",
          "state": {
            "_dom_classes": [],
            "_model_module": "@jupyter-widgets/controls",
            "_model_module_version": "1.5.0",
            "_model_name": "HTMLModel",
            "_view_count": null,
            "_view_module": "@jupyter-widgets/controls",
            "_view_module_version": "1.5.0",
            "_view_name": "HTMLView",
            "description": "",
            "description_tooltip": null,
            "layout": "IPY_MODEL_27a4c875ef12493eac8c2590e0777117",
            "placeholder": "​",
            "style": "IPY_MODEL_89862e2f5a3a43d5b3bfb589309dd70a",
            "value": ""
          }
        },
        "3b82100595534431b62aa99cc8f3d05c": {
          "model_module": "@jupyter-widgets/controls",
          "model_name": "FloatProgressModel",
          "model_module_version": "1.5.0",
          "state": {
            "_dom_classes": [],
            "_model_module": "@jupyter-widgets/controls",
            "_model_module_version": "1.5.0",
            "_model_name": "FloatProgressModel",
            "_view_count": null,
            "_view_module": "@jupyter-widgets/controls",
            "_view_module_version": "1.5.0",
            "_view_name": "ProgressView",
            "bar_style": "success",
            "description": "",
            "description_tooltip": null,
            "layout": "IPY_MODEL_1acaa1f92efd47d5860424f272da9ab1",
            "max": 9912422,
            "min": 0,
            "orientation": "horizontal",
            "style": "IPY_MODEL_d2d37e9671c94b54abeeabd3b08746ff",
            "value": 9912422
          }
        },
        "90c42bca3ff5413e90fb361ee620fea9": {
          "model_module": "@jupyter-widgets/controls",
          "model_name": "HTMLModel",
          "model_module_version": "1.5.0",
          "state": {
            "_dom_classes": [],
            "_model_module": "@jupyter-widgets/controls",
            "_model_module_version": "1.5.0",
            "_model_name": "HTMLModel",
            "_view_count": null,
            "_view_module": "@jupyter-widgets/controls",
            "_view_module_version": "1.5.0",
            "_view_name": "HTMLView",
            "description": "",
            "description_tooltip": null,
            "layout": "IPY_MODEL_5e1b5f509be043f29f654a365fe3ab13",
            "placeholder": "​",
            "style": "IPY_MODEL_1ed3a916c0724300960fd0505aff807f",
            "value": " 9913344/? [00:00&lt;00:00, 53849766.26it/s]"
          }
        },
        "b981426e17fc498f94880954fd38db5a": {
          "model_module": "@jupyter-widgets/base",
          "model_name": "LayoutModel",
          "model_module_version": "1.2.0",
          "state": {
            "_model_module": "@jupyter-widgets/base",
            "_model_module_version": "1.2.0",
            "_model_name": "LayoutModel",
            "_view_count": null,
            "_view_module": "@jupyter-widgets/base",
            "_view_module_version": "1.2.0",
            "_view_name": "LayoutView",
            "align_content": null,
            "align_items": null,
            "align_self": null,
            "border": null,
            "bottom": null,
            "display": null,
            "flex": null,
            "flex_flow": null,
            "grid_area": null,
            "grid_auto_columns": null,
            "grid_auto_flow": null,
            "grid_auto_rows": null,
            "grid_column": null,
            "grid_gap": null,
            "grid_row": null,
            "grid_template_areas": null,
            "grid_template_columns": null,
            "grid_template_rows": null,
            "height": null,
            "justify_content": null,
            "justify_items": null,
            "left": null,
            "margin": null,
            "max_height": null,
            "max_width": null,
            "min_height": null,
            "min_width": null,
            "object_fit": null,
            "object_position": null,
            "order": null,
            "overflow": null,
            "overflow_x": null,
            "overflow_y": null,
            "padding": null,
            "right": null,
            "top": null,
            "visibility": null,
            "width": null
          }
        },
        "27a4c875ef12493eac8c2590e0777117": {
          "model_module": "@jupyter-widgets/base",
          "model_name": "LayoutModel",
          "model_module_version": "1.2.0",
          "state": {
            "_model_module": "@jupyter-widgets/base",
            "_model_module_version": "1.2.0",
            "_model_name": "LayoutModel",
            "_view_count": null,
            "_view_module": "@jupyter-widgets/base",
            "_view_module_version": "1.2.0",
            "_view_name": "LayoutView",
            "align_content": null,
            "align_items": null,
            "align_self": null,
            "border": null,
            "bottom": null,
            "display": null,
            "flex": null,
            "flex_flow": null,
            "grid_area": null,
            "grid_auto_columns": null,
            "grid_auto_flow": null,
            "grid_auto_rows": null,
            "grid_column": null,
            "grid_gap": null,
            "grid_row": null,
            "grid_template_areas": null,
            "grid_template_columns": null,
            "grid_template_rows": null,
            "height": null,
            "justify_content": null,
            "justify_items": null,
            "left": null,
            "margin": null,
            "max_height": null,
            "max_width": null,
            "min_height": null,
            "min_width": null,
            "object_fit": null,
            "object_position": null,
            "order": null,
            "overflow": null,
            "overflow_x": null,
            "overflow_y": null,
            "padding": null,
            "right": null,
            "top": null,
            "visibility": null,
            "width": null
          }
        },
        "89862e2f5a3a43d5b3bfb589309dd70a": {
          "model_module": "@jupyter-widgets/controls",
          "model_name": "DescriptionStyleModel",
          "model_module_version": "1.5.0",
          "state": {
            "_model_module": "@jupyter-widgets/controls",
            "_model_module_version": "1.5.0",
            "_model_name": "DescriptionStyleModel",
            "_view_count": null,
            "_view_module": "@jupyter-widgets/base",
            "_view_module_version": "1.2.0",
            "_view_name": "StyleView",
            "description_width": ""
          }
        },
        "1acaa1f92efd47d5860424f272da9ab1": {
          "model_module": "@jupyter-widgets/base",
          "model_name": "LayoutModel",
          "model_module_version": "1.2.0",
          "state": {
            "_model_module": "@jupyter-widgets/base",
            "_model_module_version": "1.2.0",
            "_model_name": "LayoutModel",
            "_view_count": null,
            "_view_module": "@jupyter-widgets/base",
            "_view_module_version": "1.2.0",
            "_view_name": "LayoutView",
            "align_content": null,
            "align_items": null,
            "align_self": null,
            "border": null,
            "bottom": null,
            "display": null,
            "flex": null,
            "flex_flow": null,
            "grid_area": null,
            "grid_auto_columns": null,
            "grid_auto_flow": null,
            "grid_auto_rows": null,
            "grid_column": null,
            "grid_gap": null,
            "grid_row": null,
            "grid_template_areas": null,
            "grid_template_columns": null,
            "grid_template_rows": null,
            "height": null,
            "justify_content": null,
            "justify_items": null,
            "left": null,
            "margin": null,
            "max_height": null,
            "max_width": null,
            "min_height": null,
            "min_width": null,
            "object_fit": null,
            "object_position": null,
            "order": null,
            "overflow": null,
            "overflow_x": null,
            "overflow_y": null,
            "padding": null,
            "right": null,
            "top": null,
            "visibility": null,
            "width": null
          }
        },
        "d2d37e9671c94b54abeeabd3b08746ff": {
          "model_module": "@jupyter-widgets/controls",
          "model_name": "ProgressStyleModel",
          "model_module_version": "1.5.0",
          "state": {
            "_model_module": "@jupyter-widgets/controls",
            "_model_module_version": "1.5.0",
            "_model_name": "ProgressStyleModel",
            "_view_count": null,
            "_view_module": "@jupyter-widgets/base",
            "_view_module_version": "1.2.0",
            "_view_name": "StyleView",
            "bar_color": null,
            "description_width": ""
          }
        },
        "5e1b5f509be043f29f654a365fe3ab13": {
          "model_module": "@jupyter-widgets/base",
          "model_name": "LayoutModel",
          "model_module_version": "1.2.0",
          "state": {
            "_model_module": "@jupyter-widgets/base",
            "_model_module_version": "1.2.0",
            "_model_name": "LayoutModel",
            "_view_count": null,
            "_view_module": "@jupyter-widgets/base",
            "_view_module_version": "1.2.0",
            "_view_name": "LayoutView",
            "align_content": null,
            "align_items": null,
            "align_self": null,
            "border": null,
            "bottom": null,
            "display": null,
            "flex": null,
            "flex_flow": null,
            "grid_area": null,
            "grid_auto_columns": null,
            "grid_auto_flow": null,
            "grid_auto_rows": null,
            "grid_column": null,
            "grid_gap": null,
            "grid_row": null,
            "grid_template_areas": null,
            "grid_template_columns": null,
            "grid_template_rows": null,
            "height": null,
            "justify_content": null,
            "justify_items": null,
            "left": null,
            "margin": null,
            "max_height": null,
            "max_width": null,
            "min_height": null,
            "min_width": null,
            "object_fit": null,
            "object_position": null,
            "order": null,
            "overflow": null,
            "overflow_x": null,
            "overflow_y": null,
            "padding": null,
            "right": null,
            "top": null,
            "visibility": null,
            "width": null
          }
        },
        "1ed3a916c0724300960fd0505aff807f": {
          "model_module": "@jupyter-widgets/controls",
          "model_name": "DescriptionStyleModel",
          "model_module_version": "1.5.0",
          "state": {
            "_model_module": "@jupyter-widgets/controls",
            "_model_module_version": "1.5.0",
            "_model_name": "DescriptionStyleModel",
            "_view_count": null,
            "_view_module": "@jupyter-widgets/base",
            "_view_module_version": "1.2.0",
            "_view_name": "StyleView",
            "description_width": ""
          }
        }
      }
    }
  },
  "cells": [
    {
      "cell_type": "markdown",
      "metadata": {
        "id": "jG9lgoTbNJnQ"
      },
      "source": [
        "To Build a :\n",
        "- Network with Group Normalization\n",
        "- Network with Layer Normalization\n",
        "- Network with L1 + BN\n",
        "- Network with L2 + BN\n"
      ]
    },
    {
      "cell_type": "markdown",
      "metadata": {
        "id": "ZrCia5khNwVW"
      },
      "source": [
        "## Importing Libraries"
      ]
    },
    {
      "cell_type": "code",
      "metadata": {
        "id": "UaQTfXIxNpjE"
      },
      "source": [
        "# import model\n",
        "import torch\n",
        "import torch.nn as nn\n",
        "import torch.nn.functional as F\n",
        "import torch.optim as optim\n",
        "from torchvision import datasets, transforms\n",
        "from tqdm import tqdm\n",
        "from torchsummary import summary\n",
        "\n",
        "import matplotlib.pyplot as plt\n",
        "import numpy as np "
      ],
      "execution_count": null,
      "outputs": []
    },
    {
      "cell_type": "markdown",
      "metadata": {
        "id": "6qRF2duqN_xX"
      },
      "source": [
        "## Downloading DataSet\n"
      ]
    },
    {
      "cell_type": "code",
      "metadata": {
        "colab": {
          "base_uri": "https://localhost:8080/",
          "height": 467,
          "referenced_widgets": [
            "9cdb6726ff264331a12ec0e5a81098f8",
            "93b39a40351b4c06839000e0d588a611",
            "3b82100595534431b62aa99cc8f3d05c",
            "90c42bca3ff5413e90fb361ee620fea9",
            "b981426e17fc498f94880954fd38db5a",
            "27a4c875ef12493eac8c2590e0777117",
            "89862e2f5a3a43d5b3bfb589309dd70a",
            "1acaa1f92efd47d5860424f272da9ab1",
            "d2d37e9671c94b54abeeabd3b08746ff",
            "5e1b5f509be043f29f654a365fe3ab13",
            "1ed3a916c0724300960fd0505aff807f",
            "f2e86a18e95e4d92b1dfff1aa727d46e",
            "14e8da8452484a11b2decbe0214ca45f",
            "1809b53684e049ac88f8b15aa3358ea3"
          ]
        },
        "id": "-KCInnV5XLyG",
        "outputId": "f6a88278-a6d7-4d47-fd08-652301a3d150"
      },
      "source": [
        "torch.manual_seed(1)\n",
        "use_cuda = torch.cuda.is_available()\n",
        "kwargs = {'num_workers': 1, 'pin_memory': True} if use_cuda else {}\n",
        "bs = 256\n",
        "\n",
        "train_set = torch.utils.data.DataLoader(\n",
        "    datasets.MNIST('../data/', train=True, download=True, \n",
        "                   transform=transforms.Compose([\n",
        "                       transforms.ToTensor(),\n",
        "                       transforms.Normalize((0.1307,), (0.3081,))\n",
        "                   ])\n",
        "    ),\n",
        "    batch_size=bs, shuffle=True, **kwargs\n",
        ")\n",
        "\n",
        "test_set = torch.utils.data.DataLoader(\n",
        "    datasets.MNIST('../data/', train=False, \n",
        "                   transform=transforms.Compose([\n",
        "                       transforms.ToTensor(),\n",
        "                       transforms.Normalize((0.1307,), (0.3081,))\n",
        "                   ])\n",
        "    ),\n",
        "    batch_size=bs, **kwargs\n",
        ")"
      ],
      "execution_count": null,
      "outputs": [
        {
          "name": "stdout",
          "output_type": "stream",
          "text": [
            "Downloading http://yann.lecun.com/exdb/mnist/train-images-idx3-ubyte.gz\n",
            "Downloading http://yann.lecun.com/exdb/mnist/train-images-idx3-ubyte.gz to ../data/MNIST/raw/train-images-idx3-ubyte.gz\n"
          ]
        },
        {
          "data": {
            "application/vnd.jupyter.widget-view+json": {
              "model_id": "9cdb6726ff264331a12ec0e5a81098f8",
              "version_major": 2,
              "version_minor": 0
            },
            "text/plain": [
              "  0%|          | 0/9912422 [00:00<?, ?it/s]"
            ]
          },
          "metadata": {},
          "output_type": "display_data"
        },
        {
          "name": "stdout",
          "output_type": "stream",
          "text": [
            "Extracting ../data/MNIST/raw/train-images-idx3-ubyte.gz to ../data/MNIST/raw\n",
            "\n",
            "Downloading http://yann.lecun.com/exdb/mnist/train-labels-idx1-ubyte.gz\n",
            "Downloading http://yann.lecun.com/exdb/mnist/train-labels-idx1-ubyte.gz to ../data/MNIST/raw/train-labels-idx1-ubyte.gz\n"
          ]
        },
        {
          "data": {
            "application/vnd.jupyter.widget-view+json": {
              "model_id": "f2e86a18e95e4d92b1dfff1aa727d46e",
              "version_major": 2,
              "version_minor": 0
            },
            "text/plain": [
              "  0%|          | 0/28881 [00:00<?, ?it/s]"
            ]
          },
          "metadata": {},
          "output_type": "display_data"
        },
        {
          "name": "stdout",
          "output_type": "stream",
          "text": [
            "Extracting ../data/MNIST/raw/train-labels-idx1-ubyte.gz to ../data/MNIST/raw\n",
            "\n",
            "Downloading http://yann.lecun.com/exdb/mnist/t10k-images-idx3-ubyte.gz\n",
            "Downloading http://yann.lecun.com/exdb/mnist/t10k-images-idx3-ubyte.gz to ../data/MNIST/raw/t10k-images-idx3-ubyte.gz\n"
          ]
        },
        {
          "data": {
            "application/vnd.jupyter.widget-view+json": {
              "model_id": "14e8da8452484a11b2decbe0214ca45f",
              "version_major": 2,
              "version_minor": 0
            },
            "text/plain": [
              "  0%|          | 0/1648877 [00:00<?, ?it/s]"
            ]
          },
          "metadata": {},
          "output_type": "display_data"
        },
        {
          "name": "stdout",
          "output_type": "stream",
          "text": [
            "Extracting ../data/MNIST/raw/t10k-images-idx3-ubyte.gz to ../data/MNIST/raw\n",
            "\n",
            "Downloading http://yann.lecun.com/exdb/mnist/t10k-labels-idx1-ubyte.gz\n",
            "Downloading http://yann.lecun.com/exdb/mnist/t10k-labels-idx1-ubyte.gz to ../data/MNIST/raw/t10k-labels-idx1-ubyte.gz\n"
          ]
        },
        {
          "data": {
            "application/vnd.jupyter.widget-view+json": {
              "model_id": "1809b53684e049ac88f8b15aa3358ea3",
              "version_major": 2,
              "version_minor": 0
            },
            "text/plain": [
              "  0%|          | 0/4542 [00:00<?, ?it/s]"
            ]
          },
          "metadata": {},
          "output_type": "display_data"
        },
        {
          "name": "stdout",
          "output_type": "stream",
          "text": [
            "Extracting ../data/MNIST/raw/t10k-labels-idx1-ubyte.gz to ../data/MNIST/raw\n",
            "\n"
          ]
        },
        {
          "name": "stderr",
          "output_type": "stream",
          "text": [
            "/usr/local/lib/python3.7/dist-packages/torchvision/datasets/mnist.py:498: UserWarning: The given NumPy array is not writeable, and PyTorch does not support non-writeable tensors. This means you can write to the underlying (supposedly non-writeable) NumPy array using the tensor. You may want to copy the array to protect its data or make it writeable before converting it to a tensor. This type of warning will be suppressed for the rest of this program. (Triggered internally at  /pytorch/torch/csrc/utils/tensor_numpy.cpp:180.)\n",
            "  return torch.from_numpy(parsed.astype(m[2], copy=False)).view(*s)\n"
          ]
        }
      ]
    },
    {
      "cell_type": "markdown",
      "metadata": {
        "id": "D29IP7xYAJTx"
      },
      "source": [
        "## Defining the model\n"
      ]
    },
    {
      "cell_type": "code",
      "metadata": {
        "id": "_hTATsbuAIeF"
      },
      "source": [
        ""
      ],
      "execution_count": null,
      "outputs": []
    },
    {
      "cell_type": "code",
      "metadata": {
        "id": "DAuUxGQY1NZE"
      },
      "source": [
        "import torch \n",
        "import torch.nn as nn\n",
        "import torch.nn.functional as F\n",
        "\n",
        "class Net(nn.Module):\n",
        "  def __init__(self, drop=0.05, norm='gn' , groups=4):\n",
        "    \n",
        "    super(Net, self).__init__()\n",
        "    self.max_pool = nn.MaxPool2d(2,2)\n",
        "    def Normalize(x):\n",
        "      if norm == 'bn':\n",
        "        return nn.BatchNorm2d(x)\n",
        "      elif norm =='ln':\n",
        "        return nn.GroupNorm(1,x)\n",
        "      elif norm =='gn':\n",
        "        return nn.GroupNorm(groups,x)\n",
        "      else:\n",
        "        return None\n",
        "\n",
        "    self.conv_block1 = nn.Sequential(\n",
        "        nn.Conv2d(1, 8, 3, padding=1, bias=False),\n",
        "        Normalize(8),\n",
        "        nn.ReLU(),\n",
        "        nn.Dropout2d(drop),\n",
        "\n",
        "        nn.Conv2d(8, 24, 3, padding=1, bias=False),\n",
        "        Normalize(24),\n",
        "        nn.ReLU(),\n",
        "        nn.Dropout2d(drop),\n",
        "\n",
        "       \n",
        "    )\n",
        "\n",
        "    self.transition1 = nn.Sequential(\n",
        "        nn.Conv2d(24, 8, 1, bias=False),\n",
        "        Normalize(8),\n",
        "        nn.ReLU(),\n",
        "        nn.Dropout2d(drop),\n",
        "    )\n",
        "\n",
        "    self.conv_block2 = nn.Sequential(\n",
        "        nn.Conv2d(8, 16, 3, bias=False),\n",
        "        Normalize(16),\n",
        "        nn.ReLU(),\n",
        "        nn.Dropout2d(drop),\n",
        " nn.Conv2d(16, 24, 3, bias=False),\n",
        "        Normalize(24),\n",
        "        nn.ReLU(),\n",
        "        nn.Dropout2d(drop),\n",
        "    )\n",
        "\n",
        "    self.transition2 = nn.Sequential(\n",
        "        nn.Conv2d(24, 8, 1, bias=False),\n",
        "        Normalize(8),\n",
        "        nn.ReLU(),\n",
        "        nn.Dropout2d(drop),\n",
        "    )\n",
        "  \n",
        "    self.conv_block3 = nn.Sequential(\n",
        "        nn.Conv2d(8, 16, 3, bias=False),\n",
        "        Normalize(16),\n",
        "        nn.ReLU(),\n",
        "        nn.Dropout2d(drop),\n",
        "\n",
        "        nn.Conv2d(16, 32, 3, bias=False),\n",
        "        Normalize(32),\n",
        "        nn.ReLU(),\n",
        "        nn.Dropout2d(drop),\n",
        "    )\n",
        "\n",
        "    self.gap = nn.Sequential(\n",
        "        nn.AvgPool2d(6)\n",
        "    )\n",
        "    self.dense = nn.Linear(32, 10)\n",
        "\n",
        "  def forward(self, x):\n",
        "    x = self.conv_block1(x)\n",
        "    x = self.max_pool(x)\n",
        "    x = self.transition1(x)\n",
        "\n",
        "    x = self.conv_block2(x)\n",
        "    x = self.transition2(x)\n",
        "\n",
        "    x = self.conv_block3(x)\n",
        "\n",
        "    x = self.gap(x)\n",
        "    x = x.view(-1, 32)    \n",
        "    x = self.dense(x)\n",
        "\n",
        "    return F.log_softmax(x, dim=1)"
      ],
      "execution_count": null,
      "outputs": []
    },
    {
      "cell_type": "code",
      "metadata": {
        "colab": {
          "base_uri": "https://localhost:8080/"
        },
        "id": "qaIvXG4-VZWY",
        "outputId": "0e609483-d63a-43ad-8214-180df583f070"
      },
      "source": [
        "use_cuda = torch.cuda.is_available()\n",
        "device = torch.device(\"cuda\" if use_cuda else \"cpu\")\n",
        "net = Net().to(device)\n",
        "summary(net, input_size=(1, 28, 28))"
      ],
      "execution_count": null,
      "outputs": [
        {
          "name": "stdout",
          "output_type": "stream",
          "text": [
            "----------------------------------------------------------------\n",
            "        Layer (type)               Output Shape         Param #\n",
            "================================================================\n",
            "            Conv2d-1            [-1, 8, 28, 28]              72\n",
            "         GroupNorm-2            [-1, 8, 28, 28]              16\n",
            "              ReLU-3            [-1, 8, 28, 28]               0\n",
            "         Dropout2d-4            [-1, 8, 28, 28]               0\n",
            "            Conv2d-5           [-1, 24, 28, 28]           1,728\n",
            "         GroupNorm-6           [-1, 24, 28, 28]              48\n",
            "              ReLU-7           [-1, 24, 28, 28]               0\n",
            "         Dropout2d-8           [-1, 24, 28, 28]               0\n",
            "         MaxPool2d-9           [-1, 24, 14, 14]               0\n",
            "           Conv2d-10            [-1, 8, 14, 14]             192\n",
            "        GroupNorm-11            [-1, 8, 14, 14]              16\n",
            "             ReLU-12            [-1, 8, 14, 14]               0\n",
            "        Dropout2d-13            [-1, 8, 14, 14]               0\n",
            "           Conv2d-14           [-1, 16, 12, 12]           1,152\n",
            "        GroupNorm-15           [-1, 16, 12, 12]              32\n",
            "             ReLU-16           [-1, 16, 12, 12]               0\n",
            "        Dropout2d-17           [-1, 16, 12, 12]               0\n",
            "           Conv2d-18           [-1, 24, 10, 10]           3,456\n",
            "        GroupNorm-19           [-1, 24, 10, 10]              48\n",
            "             ReLU-20           [-1, 24, 10, 10]               0\n",
            "        Dropout2d-21           [-1, 24, 10, 10]               0\n",
            "           Conv2d-22            [-1, 8, 10, 10]             192\n",
            "        GroupNorm-23            [-1, 8, 10, 10]              16\n",
            "             ReLU-24            [-1, 8, 10, 10]               0\n",
            "        Dropout2d-25            [-1, 8, 10, 10]               0\n",
            "           Conv2d-26             [-1, 16, 8, 8]           1,152\n",
            "        GroupNorm-27             [-1, 16, 8, 8]              32\n",
            "             ReLU-28             [-1, 16, 8, 8]               0\n",
            "        Dropout2d-29             [-1, 16, 8, 8]               0\n",
            "           Conv2d-30             [-1, 32, 6, 6]           4,608\n",
            "        GroupNorm-31             [-1, 32, 6, 6]              64\n",
            "             ReLU-32             [-1, 32, 6, 6]               0\n",
            "        Dropout2d-33             [-1, 32, 6, 6]               0\n",
            "        AvgPool2d-34             [-1, 32, 1, 1]               0\n",
            "           Linear-35                   [-1, 10]             330\n",
            "================================================================\n",
            "Total params: 13,154\n",
            "Trainable params: 13,154\n",
            "Non-trainable params: 0\n",
            "----------------------------------------------------------------\n",
            "Input size (MB): 0.00\n",
            "Forward/backward pass size (MB): 1.08\n",
            "Params size (MB): 0.05\n",
            "Estimated Total Size (MB): 1.14\n",
            "----------------------------------------------------------------\n"
          ]
        },
        {
          "name": "stderr",
          "output_type": "stream",
          "text": [
            "/usr/local/lib/python3.7/dist-packages/torch/nn/functional.py:718: UserWarning: Named tensors and all their associated APIs are an experimental feature and subject to change. Please do not use them for anything important until they are released as stable. (Triggered internally at  /pytorch/c10/core/TensorImpl.h:1156.)\n",
            "  return torch.max_pool2d(input, kernel_size, stride, padding, dilation, ceil_mode)\n"
          ]
        }
      ]
    },
    {
      "cell_type": "markdown",
      "metadata": {
        "id": "uVt8kCwQSQrs"
      },
      "source": [
        "## Training the network\n"
      ]
    },
    {
      "cell_type": "code",
      "metadata": {
        "id": "u2UzFfU5VM-r"
      },
      "source": [
        "def train(model, device, train_loader, optimizer, use_l1, lambda_l1):\n",
        "    model.train() # training model\n",
        "    pbar = tqdm(train_loader)\n",
        "    t_acc = 0\n",
        "    for batch_idx, (data, target) in enumerate(pbar):\n",
        "        data, target = data.to(device), target.to(device)\n",
        "        optimizer.zero_grad() # optimizer\n",
        "        output = model(data) # output of the model\n",
        "\n",
        "        loss = F.nll_loss(output, target) # calculate the loss\n",
        "        l1 = 0\n",
        "        if use_l1:\n",
        "          for p in model.parameters():\n",
        "            l1 = l1+ p.abs().sum()\n",
        "        loss = loss+ lambda_l1*l1\n",
        "        loss.backward() # backpropogation\n",
        "        optimizer.step() # optimization\n",
        "\n",
        "        pred = output.argmax(dim=1).eq(target).sum().item() # final prediction\n",
        "        t_acc += pred # accuracy\n",
        "        pbar.set_description(desc= f'loss={loss.item():.4f} batch_id={batch_idx}') # setting the output\n",
        "    \n",
        "    return loss.item(), t_acc / len(train_loader.dataset)\n",
        "\n",
        "\n",
        "def test(model, device, test_loader):\n",
        "    model.eval()\n",
        "    test_loss = 0\n",
        "    correct = 0\n",
        "    with torch.no_grad():\n",
        "        for data, target in test_loader:\n",
        "            data, target = data.to(device), target.to(device)\n",
        "            output = model(data) # output of the model\n",
        "            test_loss += F.nll_loss(output, target, reduction='sum').item()  # sum up batch loss\n",
        "            pred = output.argmax(dim=1, keepdim=True)  # get the index of the max log-probability\n",
        "            correct += pred.eq(target.view_as(pred)).sum().item()\n",
        "\n",
        "    test_loss /= len(test_loader.dataset)\n",
        "    # printing the loss and accuracy of test\n",
        "    print('Test set: Average loss: {:.4f}, Accuracy: {}/{} ({:.2f}%)\\n'.format(\n",
        "        test_loss, correct, len(test_loader.dataset),\n",
        "        100. * correct / len(test_loader.dataset)))\n",
        "    \n",
        "    return test_loss, correct/len(test_loader.dataset)"
      ],
      "execution_count": null,
      "outputs": []
    },
    {
      "cell_type": "code",
      "metadata": {
        "id": "BGLmNngJTlfE"
      },
      "source": [
        "def fit(net, lr ,num_epoch, use_l1, use_l2=False, lambda_l1=0.05):\n",
        "  if use_l2:\n",
        "    optimizer = optim.SGD(net.parameters(), lr=lr, momentum=0.9, weight_decay=1e-4) # SGD optimizer\n",
        "  else:\n",
        "    optimizer = optim.SGD(net.parameters(), lr=lr, momentum=0.9)\n",
        "\n",
        "  # defining the dictionary for train and test, loss and accuracy\n",
        "  h = dict() \n",
        "  h['train_loss'] = list()\n",
        "  h['train_accuracy'] = list()\n",
        "  h['test_loss'] = list()\n",
        "  h['test_accuracy'] = list()\n",
        "\n",
        "  for epoch in range(1, num_epoch+1):\n",
        "      print(epoch)\n",
        "      train_loss, train_acc = train(net, device, train_set, optimizer, use_l1, lambda_l1) # calling the training\n",
        "      test_loss, test_acc = test(net, device, test_set) # calling the testing\n",
        "\n",
        "      h['train_loss'].append(train_loss) # storing the training loss\n",
        "      h['train_accuracy'].append(train_acc) # storing  the accuracy\n",
        "\n",
        "      h['test_loss'].append(test_loss) # storing the testing loss\n",
        "      h['test_accuracy'].append(test_acc) # storing the testing accuracy\n",
        "  return net, h"
      ],
      "execution_count": null,
      "outputs": []
    },
    {
      "cell_type": "markdown",
      "metadata": {
        "id": "cEly_TkcwYx9"
      },
      "source": [
        "### Batch Normalisation"
      ]
    },
    {
      "cell_type": "code",
      "metadata": {
        "colab": {
          "base_uri": "https://localhost:8080/"
        },
        "id": "TXbjSZeS7Mky",
        "outputId": "e2748bb1-6ed8-4261-8e32-dc3d636dac22"
      },
      "source": [
        "net_bn, hist_bn = fit(Net(norm='bn').to(device), lr=0.01, num_epoch=20, use_l1=False, use_l2=False)"
      ],
      "execution_count": null,
      "outputs": [
        {
          "name": "stdout",
          "output_type": "stream",
          "text": [
            "1\n"
          ]
        },
        {
          "name": "stderr",
          "output_type": "stream",
          "text": [
            "loss=0.5185 batch_id=234: 100%|██████████| 235/235 [00:18<00:00, 13.02it/s]\n"
          ]
        },
        {
          "name": "stdout",
          "output_type": "stream",
          "text": [
            "Test set: Average loss: 0.3092, Accuracy: 9528/10000 (95.28%)\n",
            "\n",
            "2\n"
          ]
        },
        {
          "name": "stderr",
          "output_type": "stream",
          "text": [
            "loss=0.1884 batch_id=234: 100%|██████████| 235/235 [00:17<00:00, 13.24it/s]\n"
          ]
        },
        {
          "name": "stdout",
          "output_type": "stream",
          "text": [
            "Test set: Average loss: 0.1144, Accuracy: 9748/10000 (97.48%)\n",
            "\n",
            "3\n"
          ]
        },
        {
          "name": "stderr",
          "output_type": "stream",
          "text": [
            "loss=0.1935 batch_id=234: 100%|██████████| 235/235 [00:17<00:00, 13.14it/s]\n"
          ]
        },
        {
          "name": "stdout",
          "output_type": "stream",
          "text": [
            "Test set: Average loss: 0.0800, Accuracy: 9799/10000 (97.99%)\n",
            "\n",
            "4\n"
          ]
        },
        {
          "name": "stderr",
          "output_type": "stream",
          "text": [
            "loss=0.1227 batch_id=234: 100%|██████████| 235/235 [00:17<00:00, 13.18it/s]\n"
          ]
        },
        {
          "name": "stdout",
          "output_type": "stream",
          "text": [
            "Test set: Average loss: 0.0609, Accuracy: 9841/10000 (98.41%)\n",
            "\n",
            "5\n"
          ]
        },
        {
          "name": "stderr",
          "output_type": "stream",
          "text": [
            "loss=0.1256 batch_id=234: 100%|██████████| 235/235 [00:17<00:00, 13.20it/s]\n"
          ]
        },
        {
          "name": "stdout",
          "output_type": "stream",
          "text": [
            "Test set: Average loss: 0.0537, Accuracy: 9837/10000 (98.37%)\n",
            "\n",
            "6\n"
          ]
        },
        {
          "name": "stderr",
          "output_type": "stream",
          "text": [
            "loss=0.1058 batch_id=234: 100%|██████████| 235/235 [00:17<00:00, 13.08it/s]\n"
          ]
        },
        {
          "name": "stdout",
          "output_type": "stream",
          "text": [
            "Test set: Average loss: 0.0448, Accuracy: 9870/10000 (98.70%)\n",
            "\n",
            "7\n"
          ]
        },
        {
          "name": "stderr",
          "output_type": "stream",
          "text": [
            "loss=0.0508 batch_id=234: 100%|██████████| 235/235 [00:17<00:00, 13.10it/s]\n"
          ]
        },
        {
          "name": "stdout",
          "output_type": "stream",
          "text": [
            "Test set: Average loss: 0.0415, Accuracy: 9871/10000 (98.71%)\n",
            "\n",
            "8\n"
          ]
        },
        {
          "name": "stderr",
          "output_type": "stream",
          "text": [
            "loss=0.1214 batch_id=234: 100%|██████████| 235/235 [00:17<00:00, 13.06it/s]\n"
          ]
        },
        {
          "name": "stdout",
          "output_type": "stream",
          "text": [
            "Test set: Average loss: 0.0373, Accuracy: 9886/10000 (98.86%)\n",
            "\n",
            "9\n"
          ]
        },
        {
          "name": "stderr",
          "output_type": "stream",
          "text": [
            "loss=0.1074 batch_id=234: 100%|██████████| 235/235 [00:18<00:00, 13.03it/s]\n"
          ]
        },
        {
          "name": "stdout",
          "output_type": "stream",
          "text": [
            "Test set: Average loss: 0.0357, Accuracy: 9890/10000 (98.90%)\n",
            "\n",
            "10\n"
          ]
        },
        {
          "name": "stderr",
          "output_type": "stream",
          "text": [
            "loss=0.0825 batch_id=234: 100%|██████████| 235/235 [00:17<00:00, 13.12it/s]\n"
          ]
        },
        {
          "name": "stdout",
          "output_type": "stream",
          "text": [
            "Test set: Average loss: 0.0315, Accuracy: 9903/10000 (99.03%)\n",
            "\n",
            "11\n"
          ]
        },
        {
          "name": "stderr",
          "output_type": "stream",
          "text": [
            "loss=0.1791 batch_id=234: 100%|██████████| 235/235 [00:18<00:00, 12.90it/s]\n"
          ]
        },
        {
          "name": "stdout",
          "output_type": "stream",
          "text": [
            "Test set: Average loss: 0.0305, Accuracy: 9904/10000 (99.04%)\n",
            "\n",
            "12\n"
          ]
        },
        {
          "name": "stderr",
          "output_type": "stream",
          "text": [
            "loss=0.1026 batch_id=234: 100%|██████████| 235/235 [00:18<00:00, 13.02it/s]\n"
          ]
        },
        {
          "name": "stdout",
          "output_type": "stream",
          "text": [
            "Test set: Average loss: 0.0327, Accuracy: 9897/10000 (98.97%)\n",
            "\n",
            "13\n"
          ]
        },
        {
          "name": "stderr",
          "output_type": "stream",
          "text": [
            "loss=0.0483 batch_id=234: 100%|██████████| 235/235 [00:18<00:00, 12.87it/s]\n"
          ]
        },
        {
          "name": "stdout",
          "output_type": "stream",
          "text": [
            "Test set: Average loss: 0.0302, Accuracy: 9907/10000 (99.07%)\n",
            "\n",
            "14\n"
          ]
        },
        {
          "name": "stderr",
          "output_type": "stream",
          "text": [
            "loss=0.1111 batch_id=234: 100%|██████████| 235/235 [00:18<00:00, 12.94it/s]\n"
          ]
        },
        {
          "name": "stdout",
          "output_type": "stream",
          "text": [
            "Test set: Average loss: 0.0290, Accuracy: 9903/10000 (99.03%)\n",
            "\n",
            "15\n"
          ]
        },
        {
          "name": "stderr",
          "output_type": "stream",
          "text": [
            "loss=0.0782 batch_id=234: 100%|██████████| 235/235 [00:18<00:00, 12.95it/s]\n"
          ]
        },
        {
          "name": "stdout",
          "output_type": "stream",
          "text": [
            "Test set: Average loss: 0.0297, Accuracy: 9899/10000 (98.99%)\n",
            "\n",
            "16\n"
          ]
        },
        {
          "name": "stderr",
          "output_type": "stream",
          "text": [
            "loss=0.1786 batch_id=234: 100%|██████████| 235/235 [00:18<00:00, 12.92it/s]\n"
          ]
        },
        {
          "name": "stdout",
          "output_type": "stream",
          "text": [
            "Test set: Average loss: 0.0274, Accuracy: 9914/10000 (99.14%)\n",
            "\n",
            "17\n"
          ]
        },
        {
          "name": "stderr",
          "output_type": "stream",
          "text": [
            "loss=0.0240 batch_id=234: 100%|██████████| 235/235 [00:18<00:00, 12.84it/s]\n"
          ]
        },
        {
          "name": "stdout",
          "output_type": "stream",
          "text": [
            "Test set: Average loss: 0.0277, Accuracy: 9909/10000 (99.09%)\n",
            "\n",
            "18\n"
          ]
        },
        {
          "name": "stderr",
          "output_type": "stream",
          "text": [
            "loss=0.0325 batch_id=234: 100%|██████████| 235/235 [00:18<00:00, 12.97it/s]\n"
          ]
        },
        {
          "name": "stdout",
          "output_type": "stream",
          "text": [
            "Test set: Average loss: 0.0259, Accuracy: 9919/10000 (99.19%)\n",
            "\n",
            "19\n"
          ]
        },
        {
          "name": "stderr",
          "output_type": "stream",
          "text": [
            "loss=0.0618 batch_id=234: 100%|██████████| 235/235 [00:18<00:00, 13.00it/s]\n"
          ]
        },
        {
          "name": "stdout",
          "output_type": "stream",
          "text": [
            "Test set: Average loss: 0.0289, Accuracy: 9901/10000 (99.01%)\n",
            "\n",
            "20\n"
          ]
        },
        {
          "name": "stderr",
          "output_type": "stream",
          "text": [
            "loss=0.0415 batch_id=234: 100%|██████████| 235/235 [00:18<00:00, 12.86it/s]\n"
          ]
        },
        {
          "name": "stdout",
          "output_type": "stream",
          "text": [
            "Test set: Average loss: 0.0242, Accuracy: 9922/10000 (99.22%)\n",
            "\n"
          ]
        }
      ]
    },
    {
      "cell_type": "markdown",
      "metadata": {
        "id": "SpJpt3SXwl6K"
      },
      "source": [
        "### Group Normalisation"
      ]
    },
    {
      "cell_type": "code",
      "metadata": {
        "colab": {
          "base_uri": "https://localhost:8080/"
        },
        "id": "idxkX7-S7yLo",
        "outputId": "eb3df100-a019-4918-d380-0b34a899ea48"
      },
      "source": [
        "net_gn, hist_gn = fit(Net(norm='gn').to(device), lr=0.01, num_epoch=20, use_l1=False, use_l2=False)"
      ],
      "execution_count": null,
      "outputs": [
        {
          "name": "stdout",
          "output_type": "stream",
          "text": [
            "1\n"
          ]
        },
        {
          "name": "stderr",
          "output_type": "stream",
          "text": [
            "loss=0.6128 batch_id=234: 100%|██████████| 235/235 [00:18<00:00, 12.88it/s]\n"
          ]
        },
        {
          "name": "stdout",
          "output_type": "stream",
          "text": [
            "Test set: Average loss: 0.4505, Accuracy: 9077/10000 (90.77%)\n",
            "\n",
            "2\n"
          ]
        },
        {
          "name": "stderr",
          "output_type": "stream",
          "text": [
            "loss=0.2273 batch_id=234: 100%|██████████| 235/235 [00:18<00:00, 12.64it/s]\n"
          ]
        },
        {
          "name": "stdout",
          "output_type": "stream",
          "text": [
            "Test set: Average loss: 0.1363, Accuracy: 9672/10000 (96.72%)\n",
            "\n",
            "3\n"
          ]
        },
        {
          "name": "stderr",
          "output_type": "stream",
          "text": [
            "loss=0.3145 batch_id=234: 100%|██████████| 235/235 [00:18<00:00, 12.78it/s]\n"
          ]
        },
        {
          "name": "stdout",
          "output_type": "stream",
          "text": [
            "Test set: Average loss: 0.0781, Accuracy: 9786/10000 (97.86%)\n",
            "\n",
            "4\n"
          ]
        },
        {
          "name": "stderr",
          "output_type": "stream",
          "text": [
            "loss=0.1267 batch_id=234: 100%|██████████| 235/235 [00:18<00:00, 12.91it/s]\n"
          ]
        },
        {
          "name": "stdout",
          "output_type": "stream",
          "text": [
            "Test set: Average loss: 0.0658, Accuracy: 9811/10000 (98.11%)\n",
            "\n",
            "5\n"
          ]
        },
        {
          "name": "stderr",
          "output_type": "stream",
          "text": [
            "loss=0.0955 batch_id=234: 100%|██████████| 235/235 [00:18<00:00, 12.77it/s]\n"
          ]
        },
        {
          "name": "stdout",
          "output_type": "stream",
          "text": [
            "Test set: Average loss: 0.0490, Accuracy: 9861/10000 (98.61%)\n",
            "\n",
            "6\n"
          ]
        },
        {
          "name": "stderr",
          "output_type": "stream",
          "text": [
            "loss=0.1479 batch_id=234: 100%|██████████| 235/235 [00:18<00:00, 12.81it/s]\n"
          ]
        },
        {
          "name": "stdout",
          "output_type": "stream",
          "text": [
            "Test set: Average loss: 0.0472, Accuracy: 9859/10000 (98.59%)\n",
            "\n",
            "7\n"
          ]
        },
        {
          "name": "stderr",
          "output_type": "stream",
          "text": [
            "loss=0.1631 batch_id=234: 100%|██████████| 235/235 [00:18<00:00, 12.80it/s]\n"
          ]
        },
        {
          "name": "stdout",
          "output_type": "stream",
          "text": [
            "Test set: Average loss: 0.0409, Accuracy: 9874/10000 (98.74%)\n",
            "\n",
            "8\n"
          ]
        },
        {
          "name": "stderr",
          "output_type": "stream",
          "text": [
            "loss=0.1491 batch_id=234: 100%|██████████| 235/235 [00:18<00:00, 12.79it/s]\n"
          ]
        },
        {
          "name": "stdout",
          "output_type": "stream",
          "text": [
            "Test set: Average loss: 0.0368, Accuracy: 9895/10000 (98.95%)\n",
            "\n",
            "9\n"
          ]
        },
        {
          "name": "stderr",
          "output_type": "stream",
          "text": [
            "loss=0.0607 batch_id=234: 100%|██████████| 235/235 [00:18<00:00, 12.79it/s]\n"
          ]
        },
        {
          "name": "stdout",
          "output_type": "stream",
          "text": [
            "Test set: Average loss: 0.0340, Accuracy: 9900/10000 (99.00%)\n",
            "\n",
            "10\n"
          ]
        },
        {
          "name": "stderr",
          "output_type": "stream",
          "text": [
            "loss=0.0531 batch_id=234: 100%|██████████| 235/235 [00:18<00:00, 12.90it/s]\n"
          ]
        },
        {
          "name": "stdout",
          "output_type": "stream",
          "text": [
            "Test set: Average loss: 0.0352, Accuracy: 9894/10000 (98.94%)\n",
            "\n",
            "11\n"
          ]
        },
        {
          "name": "stderr",
          "output_type": "stream",
          "text": [
            "loss=0.1828 batch_id=234: 100%|██████████| 235/235 [00:18<00:00, 12.77it/s]\n"
          ]
        },
        {
          "name": "stdout",
          "output_type": "stream",
          "text": [
            "Test set: Average loss: 0.0323, Accuracy: 9900/10000 (99.00%)\n",
            "\n",
            "12\n"
          ]
        },
        {
          "name": "stderr",
          "output_type": "stream",
          "text": [
            "loss=0.0486 batch_id=234: 100%|██████████| 235/235 [00:18<00:00, 12.68it/s]\n"
          ]
        },
        {
          "name": "stdout",
          "output_type": "stream",
          "text": [
            "Test set: Average loss: 0.0309, Accuracy: 9914/10000 (99.14%)\n",
            "\n",
            "13\n"
          ]
        },
        {
          "name": "stderr",
          "output_type": "stream",
          "text": [
            "loss=0.0340 batch_id=234: 100%|██████████| 235/235 [00:18<00:00, 12.87it/s]\n"
          ]
        },
        {
          "name": "stdout",
          "output_type": "stream",
          "text": [
            "Test set: Average loss: 0.0296, Accuracy: 9914/10000 (99.14%)\n",
            "\n",
            "14\n"
          ]
        },
        {
          "name": "stderr",
          "output_type": "stream",
          "text": [
            "loss=0.0845 batch_id=234: 100%|██████████| 235/235 [00:18<00:00, 12.82it/s]\n"
          ]
        },
        {
          "name": "stdout",
          "output_type": "stream",
          "text": [
            "Test set: Average loss: 0.0288, Accuracy: 9913/10000 (99.13%)\n",
            "\n",
            "15\n"
          ]
        },
        {
          "name": "stderr",
          "output_type": "stream",
          "text": [
            "loss=0.1089 batch_id=234: 100%|██████████| 235/235 [00:18<00:00, 12.78it/s]\n"
          ]
        },
        {
          "name": "stdout",
          "output_type": "stream",
          "text": [
            "Test set: Average loss: 0.0290, Accuracy: 9913/10000 (99.13%)\n",
            "\n",
            "16\n"
          ]
        },
        {
          "name": "stderr",
          "output_type": "stream",
          "text": [
            "loss=0.0699 batch_id=234: 100%|██████████| 235/235 [00:18<00:00, 12.84it/s]\n"
          ]
        },
        {
          "name": "stdout",
          "output_type": "stream",
          "text": [
            "Test set: Average loss: 0.0258, Accuracy: 9929/10000 (99.29%)\n",
            "\n",
            "17\n"
          ]
        },
        {
          "name": "stderr",
          "output_type": "stream",
          "text": [
            "loss=0.0824 batch_id=234: 100%|██████████| 235/235 [00:18<00:00, 12.80it/s]\n"
          ]
        },
        {
          "name": "stdout",
          "output_type": "stream",
          "text": [
            "Test set: Average loss: 0.0254, Accuracy: 9929/10000 (99.29%)\n",
            "\n",
            "18\n"
          ]
        },
        {
          "name": "stderr",
          "output_type": "stream",
          "text": [
            "loss=0.0728 batch_id=234: 100%|██████████| 235/235 [00:18<00:00, 12.86it/s]\n"
          ]
        },
        {
          "name": "stdout",
          "output_type": "stream",
          "text": [
            "Test set: Average loss: 0.0271, Accuracy: 9917/10000 (99.17%)\n",
            "\n",
            "19\n"
          ]
        },
        {
          "name": "stderr",
          "output_type": "stream",
          "text": [
            "loss=0.1002 batch_id=234: 100%|██████████| 235/235 [00:18<00:00, 12.76it/s]\n"
          ]
        },
        {
          "name": "stdout",
          "output_type": "stream",
          "text": [
            "Test set: Average loss: 0.0240, Accuracy: 9928/10000 (99.28%)\n",
            "\n",
            "20\n"
          ]
        },
        {
          "name": "stderr",
          "output_type": "stream",
          "text": [
            "loss=0.0147 batch_id=234: 100%|██████████| 235/235 [00:18<00:00, 12.73it/s]\n"
          ]
        },
        {
          "name": "stdout",
          "output_type": "stream",
          "text": [
            "Test set: Average loss: 0.0259, Accuracy: 9927/10000 (99.27%)\n",
            "\n"
          ]
        }
      ]
    },
    {
      "cell_type": "markdown",
      "metadata": {
        "id": "g63X-jF7wyKQ"
      },
      "source": [
        "### Layer Normalisation"
      ]
    },
    {
      "cell_type": "code",
      "metadata": {
        "colab": {
          "background_save": true,
          "base_uri": "https://localhost:8080/"
        },
        "id": "3N88KgAWVHad",
        "outputId": "54894933-1e74-4849-9638-d3f490035c20"
      },
      "source": [
        "net_ln, hist_ln = fit(Net(norm='ln').to(device), lr=0.01, num_epoch=20, use_l1=False, use_l2=False)"
      ],
      "execution_count": null,
      "outputs": [
        {
          "name": "stdout",
          "output_type": "stream",
          "text": [
            "1\n"
          ]
        },
        {
          "name": "stderr",
          "output_type": "stream",
          "text": [
            "loss=0.8139 batch_id=234: 100%|██████████| 235/235 [00:18<00:00, 12.85it/s]\n"
          ]
        },
        {
          "name": "stdout",
          "output_type": "stream",
          "text": [
            "Test set: Average loss: 0.4481, Accuracy: 9056/10000 (90.56%)\n",
            "\n",
            "2\n"
          ]
        },
        {
          "name": "stderr",
          "output_type": "stream",
          "text": [
            "loss=0.3278 batch_id=234: 100%|██████████| 235/235 [00:18<00:00, 12.94it/s]\n"
          ]
        },
        {
          "name": "stdout",
          "output_type": "stream",
          "text": [
            "Test set: Average loss: 0.1758, Accuracy: 9583/10000 (95.83%)\n",
            "\n",
            "3\n"
          ]
        },
        {
          "name": "stderr",
          "output_type": "stream",
          "text": [
            "loss=0.2933 batch_id=234: 100%|██████████| 235/235 [00:18<00:00, 12.87it/s]\n"
          ]
        },
        {
          "name": "stdout",
          "output_type": "stream",
          "text": [
            "Test set: Average loss: 0.1289, Accuracy: 9643/10000 (96.43%)\n",
            "\n",
            "4\n"
          ]
        },
        {
          "name": "stderr",
          "output_type": "stream",
          "text": [
            "loss=0.1714 batch_id=234: 100%|██████████| 235/235 [00:18<00:00, 12.75it/s]\n"
          ]
        },
        {
          "name": "stdout",
          "output_type": "stream",
          "text": [
            "Test set: Average loss: 0.0876, Accuracy: 9768/10000 (97.68%)\n",
            "\n",
            "5\n"
          ]
        },
        {
          "name": "stderr",
          "output_type": "stream",
          "text": [
            "loss=0.1055 batch_id=234: 100%|██████████| 235/235 [00:18<00:00, 12.92it/s]\n"
          ]
        },
        {
          "name": "stdout",
          "output_type": "stream",
          "text": [
            "Test set: Average loss: 0.0747, Accuracy: 9782/10000 (97.82%)\n",
            "\n",
            "6\n"
          ]
        },
        {
          "name": "stderr",
          "output_type": "stream",
          "text": [
            "loss=0.0806 batch_id=234: 100%|██████████| 235/235 [00:18<00:00, 12.91it/s]\n"
          ]
        },
        {
          "name": "stdout",
          "output_type": "stream",
          "text": [
            "Test set: Average loss: 0.0628, Accuracy: 9817/10000 (98.17%)\n",
            "\n",
            "7\n"
          ]
        },
        {
          "name": "stderr",
          "output_type": "stream",
          "text": [
            "loss=0.1617 batch_id=234: 100%|██████████| 235/235 [00:18<00:00, 12.86it/s]\n"
          ]
        },
        {
          "name": "stdout",
          "output_type": "stream",
          "text": [
            "Test set: Average loss: 0.0507, Accuracy: 9847/10000 (98.47%)\n",
            "\n",
            "8\n"
          ]
        },
        {
          "name": "stderr",
          "output_type": "stream",
          "text": [
            "loss=0.0751 batch_id=234: 100%|██████████| 235/235 [00:18<00:00, 12.82it/s]\n"
          ]
        },
        {
          "name": "stdout",
          "output_type": "stream",
          "text": [
            "Test set: Average loss: 0.0480, Accuracy: 9853/10000 (98.53%)\n",
            "\n",
            "9\n"
          ]
        },
        {
          "name": "stderr",
          "output_type": "stream",
          "text": [
            "loss=0.0697 batch_id=234: 100%|██████████| 235/235 [00:18<00:00, 12.85it/s]\n"
          ]
        },
        {
          "name": "stdout",
          "output_type": "stream",
          "text": [
            "Test set: Average loss: 0.0449, Accuracy: 9864/10000 (98.64%)\n",
            "\n",
            "10\n"
          ]
        },
        {
          "name": "stderr",
          "output_type": "stream",
          "text": [
            "loss=0.0523 batch_id=234: 100%|██████████| 235/235 [00:18<00:00, 12.82it/s]\n"
          ]
        },
        {
          "name": "stdout",
          "output_type": "stream",
          "text": [
            "Test set: Average loss: 0.0408, Accuracy: 9873/10000 (98.73%)\n",
            "\n",
            "11\n"
          ]
        },
        {
          "name": "stderr",
          "output_type": "stream",
          "text": [
            "loss=0.0497 batch_id=234: 100%|██████████| 235/235 [00:18<00:00, 12.83it/s]\n"
          ]
        },
        {
          "name": "stdout",
          "output_type": "stream",
          "text": [
            "Test set: Average loss: 0.0378, Accuracy: 9889/10000 (98.89%)\n",
            "\n",
            "12\n"
          ]
        },
        {
          "name": "stderr",
          "output_type": "stream",
          "text": [
            "loss=0.0702 batch_id=234: 100%|██████████| 235/235 [00:18<00:00, 12.87it/s]\n"
          ]
        },
        {
          "name": "stdout",
          "output_type": "stream",
          "text": [
            "Test set: Average loss: 0.0367, Accuracy: 9894/10000 (98.94%)\n",
            "\n",
            "13\n"
          ]
        },
        {
          "name": "stderr",
          "output_type": "stream",
          "text": [
            "loss=0.1081 batch_id=234: 100%|██████████| 235/235 [00:18<00:00, 12.87it/s]\n"
          ]
        },
        {
          "name": "stdout",
          "output_type": "stream",
          "text": [
            "Test set: Average loss: 0.0413, Accuracy: 9871/10000 (98.71%)\n",
            "\n",
            "14\n"
          ]
        },
        {
          "name": "stderr",
          "output_type": "stream",
          "text": [
            "loss=0.1132 batch_id=234: 100%|██████████| 235/235 [00:18<00:00, 12.86it/s]\n"
          ]
        },
        {
          "name": "stdout",
          "output_type": "stream",
          "text": [
            "Test set: Average loss: 0.0415, Accuracy: 9871/10000 (98.71%)\n",
            "\n",
            "15\n"
          ]
        },
        {
          "name": "stderr",
          "output_type": "stream",
          "text": [
            "loss=0.0581 batch_id=234: 100%|██████████| 235/235 [00:18<00:00, 12.92it/s]\n"
          ]
        },
        {
          "name": "stdout",
          "output_type": "stream",
          "text": [
            "Test set: Average loss: 0.0367, Accuracy: 9888/10000 (98.88%)\n",
            "\n",
            "16\n"
          ]
        },
        {
          "name": "stderr",
          "output_type": "stream",
          "text": [
            "loss=0.0612 batch_id=234: 100%|██████████| 235/235 [00:18<00:00, 12.88it/s]\n"
          ]
        },
        {
          "name": "stdout",
          "output_type": "stream",
          "text": [
            "Test set: Average loss: 0.0317, Accuracy: 9897/10000 (98.97%)\n",
            "\n",
            "17\n"
          ]
        },
        {
          "name": "stderr",
          "output_type": "stream",
          "text": [
            "loss=0.0496 batch_id=234: 100%|██████████| 235/235 [00:18<00:00, 12.76it/s]\n"
          ]
        },
        {
          "name": "stdout",
          "output_type": "stream",
          "text": [
            "Test set: Average loss: 0.0301, Accuracy: 9903/10000 (99.03%)\n",
            "\n",
            "18\n"
          ]
        },
        {
          "name": "stderr",
          "output_type": "stream",
          "text": [
            "loss=0.0290 batch_id=234: 100%|██████████| 235/235 [00:18<00:00, 12.69it/s]\n"
          ]
        },
        {
          "name": "stdout",
          "output_type": "stream",
          "text": [
            "Test set: Average loss: 0.0332, Accuracy: 9898/10000 (98.98%)\n",
            "\n",
            "19\n"
          ]
        },
        {
          "name": "stderr",
          "output_type": "stream",
          "text": [
            "loss=0.0879 batch_id=234: 100%|██████████| 235/235 [00:18<00:00, 12.73it/s]\n"
          ]
        },
        {
          "name": "stdout",
          "output_type": "stream",
          "text": [
            "Test set: Average loss: 0.0300, Accuracy: 9903/10000 (99.03%)\n",
            "\n",
            "20\n"
          ]
        },
        {
          "name": "stderr",
          "output_type": "stream",
          "text": [
            "loss=0.0363 batch_id=234: 100%|██████████| 235/235 [00:18<00:00, 12.93it/s]\n"
          ]
        },
        {
          "name": "stdout",
          "output_type": "stream",
          "text": [
            "Test set: Average loss: 0.0284, Accuracy: 9916/10000 (99.16%)\n",
            "\n"
          ]
        }
      ]
    },
    {
      "cell_type": "markdown",
      "metadata": {
        "id": "jGd73Avxw6H1"
      },
      "source": [
        "### Batch Normalisation and L1"
      ]
    },
    {
      "cell_type": "code",
      "metadata": {
        "colab": {
          "base_uri": "https://localhost:8080/"
        },
        "id": "YCe5iOBsVHl8",
        "outputId": "f03571b3-5410-4de2-d79c-dd25bddbf4cb"
      },
      "source": [
        "net_ln, hist_l1 = fit(Net(norm='bn').to(device), lr=0.01, num_epoch=20, use_l1=True, use_l2=False)"
      ],
      "execution_count": null,
      "outputs": [
        {
          "name": "stdout",
          "output_type": "stream",
          "text": [
            "1\n"
          ]
        },
        {
          "name": "stderr",
          "output_type": "stream",
          "text": [
            "loss=2.8210 batch_id=234: 100%|██████████| 235/235 [00:18<00:00, 13.02it/s]\n"
          ]
        },
        {
          "name": "stdout",
          "output_type": "stream",
          "text": [
            "Test set: Average loss: 2.3025, Accuracy: 1135/10000 (11.35%)\n",
            "\n",
            "2\n"
          ]
        },
        {
          "name": "stderr",
          "output_type": "stream",
          "text": [
            "loss=2.6773 batch_id=234: 100%|██████████| 235/235 [00:18<00:00, 12.71it/s]\n"
          ]
        },
        {
          "name": "stdout",
          "output_type": "stream",
          "text": [
            "Test set: Average loss: 2.3026, Accuracy: 982/10000 (9.82%)\n",
            "\n",
            "3\n"
          ]
        },
        {
          "name": "stderr",
          "output_type": "stream",
          "text": [
            "loss=2.6760 batch_id=234: 100%|██████████| 235/235 [00:18<00:00, 12.72it/s]\n"
          ]
        },
        {
          "name": "stdout",
          "output_type": "stream",
          "text": [
            "Test set: Average loss: 2.3026, Accuracy: 974/10000 (9.74%)\n",
            "\n",
            "4\n"
          ]
        },
        {
          "name": "stderr",
          "output_type": "stream",
          "text": [
            "loss=2.6809 batch_id=234: 100%|██████████| 235/235 [00:18<00:00, 12.68it/s]\n"
          ]
        },
        {
          "name": "stdout",
          "output_type": "stream",
          "text": [
            "Test set: Average loss: 2.3026, Accuracy: 1009/10000 (10.09%)\n",
            "\n",
            "5\n"
          ]
        },
        {
          "name": "stderr",
          "output_type": "stream",
          "text": [
            "loss=2.6763 batch_id=234: 100%|██████████| 235/235 [00:18<00:00, 12.77it/s]\n"
          ]
        },
        {
          "name": "stdout",
          "output_type": "stream",
          "text": [
            "Test set: Average loss: 2.3026, Accuracy: 1009/10000 (10.09%)\n",
            "\n",
            "6\n"
          ]
        },
        {
          "name": "stderr",
          "output_type": "stream",
          "text": [
            "loss=2.6770 batch_id=234: 100%|██████████| 235/235 [00:18<00:00, 12.98it/s]\n"
          ]
        },
        {
          "name": "stdout",
          "output_type": "stream",
          "text": [
            "Test set: Average loss: 2.3025, Accuracy: 1135/10000 (11.35%)\n",
            "\n",
            "7\n"
          ]
        },
        {
          "name": "stderr",
          "output_type": "stream",
          "text": [
            "loss=2.6757 batch_id=234: 100%|██████████| 235/235 [00:17<00:00, 13.15it/s]\n"
          ]
        },
        {
          "name": "stdout",
          "output_type": "stream",
          "text": [
            "Test set: Average loss: 2.3026, Accuracy: 1135/10000 (11.35%)\n",
            "\n",
            "8\n"
          ]
        },
        {
          "name": "stderr",
          "output_type": "stream",
          "text": [
            "loss=2.6793 batch_id=234: 100%|██████████| 235/235 [00:18<00:00, 12.84it/s]\n"
          ]
        },
        {
          "name": "stdout",
          "output_type": "stream",
          "text": [
            "Test set: Average loss: 2.3026, Accuracy: 982/10000 (9.82%)\n",
            "\n",
            "9\n"
          ]
        },
        {
          "name": "stderr",
          "output_type": "stream",
          "text": [
            "loss=2.6781 batch_id=234: 100%|██████████| 235/235 [00:18<00:00, 12.87it/s]\n"
          ]
        },
        {
          "name": "stdout",
          "output_type": "stream",
          "text": [
            "Test set: Average loss: 2.3026, Accuracy: 982/10000 (9.82%)\n",
            "\n",
            "10\n"
          ]
        },
        {
          "name": "stderr",
          "output_type": "stream",
          "text": [
            "loss=2.6762 batch_id=234: 100%|██████████| 235/235 [00:18<00:00, 12.69it/s]\n"
          ]
        },
        {
          "name": "stdout",
          "output_type": "stream",
          "text": [
            "Test set: Average loss: 2.3026, Accuracy: 1028/10000 (10.28%)\n",
            "\n",
            "11\n"
          ]
        },
        {
          "name": "stderr",
          "output_type": "stream",
          "text": [
            "loss=2.6800 batch_id=234: 100%|██████████| 235/235 [00:18<00:00, 12.83it/s]\n"
          ]
        },
        {
          "name": "stdout",
          "output_type": "stream",
          "text": [
            "Test set: Average loss: 2.3026, Accuracy: 1010/10000 (10.10%)\n",
            "\n",
            "12\n"
          ]
        },
        {
          "name": "stderr",
          "output_type": "stream",
          "text": [
            "loss=2.6790 batch_id=234: 100%|██████████| 235/235 [00:18<00:00, 12.58it/s]\n"
          ]
        },
        {
          "name": "stdout",
          "output_type": "stream",
          "text": [
            "Test set: Average loss: 2.3026, Accuracy: 1028/10000 (10.28%)\n",
            "\n",
            "13\n"
          ]
        },
        {
          "name": "stderr",
          "output_type": "stream",
          "text": [
            "loss=2.6782 batch_id=234: 100%|██████████| 235/235 [00:18<00:00, 12.83it/s]\n"
          ]
        },
        {
          "name": "stdout",
          "output_type": "stream",
          "text": [
            "Test set: Average loss: 2.3026, Accuracy: 1009/10000 (10.09%)\n",
            "\n",
            "14\n"
          ]
        },
        {
          "name": "stderr",
          "output_type": "stream",
          "text": [
            "loss=2.6791 batch_id=234: 100%|██████████| 235/235 [00:18<00:00, 13.00it/s]\n"
          ]
        },
        {
          "name": "stdout",
          "output_type": "stream",
          "text": [
            "Test set: Average loss: 2.3026, Accuracy: 974/10000 (9.74%)\n",
            "\n",
            "15\n"
          ]
        },
        {
          "name": "stderr",
          "output_type": "stream",
          "text": [
            "loss=2.6795 batch_id=234: 100%|██████████| 235/235 [00:18<00:00, 12.91it/s]\n"
          ]
        },
        {
          "name": "stdout",
          "output_type": "stream",
          "text": [
            "Test set: Average loss: 2.3026, Accuracy: 1032/10000 (10.32%)\n",
            "\n",
            "16\n"
          ]
        },
        {
          "name": "stderr",
          "output_type": "stream",
          "text": [
            "loss=2.6807 batch_id=234: 100%|██████████| 235/235 [00:18<00:00, 12.76it/s]\n"
          ]
        },
        {
          "name": "stdout",
          "output_type": "stream",
          "text": [
            "Test set: Average loss: 2.3026, Accuracy: 1028/10000 (10.28%)\n",
            "\n",
            "17\n"
          ]
        },
        {
          "name": "stderr",
          "output_type": "stream",
          "text": [
            "loss=2.6842 batch_id=234: 100%|██████████| 235/235 [00:18<00:00, 12.81it/s]\n"
          ]
        },
        {
          "name": "stdout",
          "output_type": "stream",
          "text": [
            "Test set: Average loss: 2.3026, Accuracy: 980/10000 (9.80%)\n",
            "\n",
            "18\n"
          ]
        },
        {
          "name": "stderr",
          "output_type": "stream",
          "text": [
            "loss=2.6778 batch_id=234: 100%|██████████| 235/235 [00:18<00:00, 12.62it/s]\n"
          ]
        },
        {
          "name": "stdout",
          "output_type": "stream",
          "text": [
            "Test set: Average loss: 2.3026, Accuracy: 974/10000 (9.74%)\n",
            "\n",
            "19\n"
          ]
        },
        {
          "name": "stderr",
          "output_type": "stream",
          "text": [
            "loss=2.6794 batch_id=234: 100%|██████████| 235/235 [00:18<00:00, 12.80it/s]\n"
          ]
        },
        {
          "name": "stdout",
          "output_type": "stream",
          "text": [
            "Test set: Average loss: 2.3026, Accuracy: 974/10000 (9.74%)\n",
            "\n",
            "20\n"
          ]
        },
        {
          "name": "stderr",
          "output_type": "stream",
          "text": [
            "loss=2.6772 batch_id=234: 100%|██████████| 235/235 [00:18<00:00, 12.57it/s]\n"
          ]
        },
        {
          "name": "stdout",
          "output_type": "stream",
          "text": [
            "Test set: Average loss: 2.3026, Accuracy: 1028/10000 (10.28%)\n",
            "\n"
          ]
        }
      ]
    },
    {
      "cell_type": "markdown",
      "metadata": {
        "id": "EKN_vXc0ylhS"
      },
      "source": [
        "### Batch Normalisation and L2"
      ]
    },
    {
      "cell_type": "code",
      "metadata": {
        "colab": {
          "base_uri": "https://localhost:8080/"
        },
        "id": "E77sCQbsykWo",
        "outputId": "a4a25d51-d602-4dc0-c99c-952b41364bd7"
      },
      "source": [
        "net_ln, hist_l2 = fit(Net(norm='bn').to(device), lr=0.01, num_epoch=20, use_l1=False, use_l2=True)"
      ],
      "execution_count": null,
      "outputs": [
        {
          "name": "stdout",
          "output_type": "stream",
          "text": [
            "1\n"
          ]
        },
        {
          "name": "stderr",
          "output_type": "stream",
          "text": [
            "loss=0.5585 batch_id=234: 100%|██████████| 235/235 [00:18<00:00, 12.90it/s]\n"
          ]
        },
        {
          "name": "stdout",
          "output_type": "stream",
          "text": [
            "Test set: Average loss: 0.3558, Accuracy: 9522/10000 (95.22%)\n",
            "\n",
            "2\n"
          ]
        },
        {
          "name": "stderr",
          "output_type": "stream",
          "text": [
            "loss=0.1782 batch_id=234: 100%|██████████| 235/235 [00:18<00:00, 12.97it/s]\n"
          ]
        },
        {
          "name": "stdout",
          "output_type": "stream",
          "text": [
            "Test set: Average loss: 0.1397, Accuracy: 9717/10000 (97.17%)\n",
            "\n",
            "3\n"
          ]
        },
        {
          "name": "stderr",
          "output_type": "stream",
          "text": [
            "loss=0.1649 batch_id=234: 100%|██████████| 235/235 [00:18<00:00, 13.01it/s]\n"
          ]
        },
        {
          "name": "stdout",
          "output_type": "stream",
          "text": [
            "Test set: Average loss: 0.0757, Accuracy: 9818/10000 (98.18%)\n",
            "\n",
            "4\n"
          ]
        },
        {
          "name": "stderr",
          "output_type": "stream",
          "text": [
            "loss=0.1927 batch_id=234: 100%|██████████| 235/235 [00:18<00:00, 12.85it/s]\n"
          ]
        },
        {
          "name": "stdout",
          "output_type": "stream",
          "text": [
            "Test set: Average loss: 0.0555, Accuracy: 9854/10000 (98.54%)\n",
            "\n",
            "5\n"
          ]
        },
        {
          "name": "stderr",
          "output_type": "stream",
          "text": [
            "loss=0.1513 batch_id=234: 100%|██████████| 235/235 [00:18<00:00, 12.92it/s]\n"
          ]
        },
        {
          "name": "stdout",
          "output_type": "stream",
          "text": [
            "Test set: Average loss: 0.0524, Accuracy: 9869/10000 (98.69%)\n",
            "\n",
            "6\n"
          ]
        },
        {
          "name": "stderr",
          "output_type": "stream",
          "text": [
            "loss=0.2146 batch_id=234: 100%|██████████| 235/235 [00:18<00:00, 12.98it/s]\n"
          ]
        },
        {
          "name": "stdout",
          "output_type": "stream",
          "text": [
            "Test set: Average loss: 0.0440, Accuracy: 9879/10000 (98.79%)\n",
            "\n",
            "7\n"
          ]
        },
        {
          "name": "stderr",
          "output_type": "stream",
          "text": [
            "loss=0.1175 batch_id=234: 100%|██████████| 235/235 [00:18<00:00, 12.91it/s]\n"
          ]
        },
        {
          "name": "stdout",
          "output_type": "stream",
          "text": [
            "Test set: Average loss: 0.0407, Accuracy: 9887/10000 (98.87%)\n",
            "\n",
            "8\n"
          ]
        },
        {
          "name": "stderr",
          "output_type": "stream",
          "text": [
            "loss=0.0955 batch_id=234: 100%|██████████| 235/235 [00:18<00:00, 13.03it/s]\n"
          ]
        },
        {
          "name": "stdout",
          "output_type": "stream",
          "text": [
            "Test set: Average loss: 0.0371, Accuracy: 9891/10000 (98.91%)\n",
            "\n",
            "9\n"
          ]
        },
        {
          "name": "stderr",
          "output_type": "stream",
          "text": [
            "loss=0.0830 batch_id=234: 100%|██████████| 235/235 [00:18<00:00, 12.98it/s]\n"
          ]
        },
        {
          "name": "stdout",
          "output_type": "stream",
          "text": [
            "Test set: Average loss: 0.0365, Accuracy: 9898/10000 (98.98%)\n",
            "\n",
            "10\n"
          ]
        },
        {
          "name": "stderr",
          "output_type": "stream",
          "text": [
            "loss=0.0485 batch_id=234: 100%|██████████| 235/235 [00:18<00:00, 12.84it/s]\n"
          ]
        },
        {
          "name": "stdout",
          "output_type": "stream",
          "text": [
            "Test set: Average loss: 0.0331, Accuracy: 9898/10000 (98.98%)\n",
            "\n",
            "11\n"
          ]
        },
        {
          "name": "stderr",
          "output_type": "stream",
          "text": [
            "loss=0.0620 batch_id=234: 100%|██████████| 235/235 [00:18<00:00, 12.87it/s]\n"
          ]
        },
        {
          "name": "stdout",
          "output_type": "stream",
          "text": [
            "Test set: Average loss: 0.0344, Accuracy: 9887/10000 (98.87%)\n",
            "\n",
            "12\n"
          ]
        },
        {
          "name": "stderr",
          "output_type": "stream",
          "text": [
            "loss=0.0520 batch_id=234: 100%|██████████| 235/235 [00:18<00:00, 12.97it/s]\n"
          ]
        },
        {
          "name": "stdout",
          "output_type": "stream",
          "text": [
            "Test set: Average loss: 0.0318, Accuracy: 9909/10000 (99.09%)\n",
            "\n",
            "13\n"
          ]
        },
        {
          "name": "stderr",
          "output_type": "stream",
          "text": [
            "loss=0.0478 batch_id=234: 100%|██████████| 235/235 [00:18<00:00, 12.86it/s]\n"
          ]
        },
        {
          "name": "stdout",
          "output_type": "stream",
          "text": [
            "Test set: Average loss: 0.0317, Accuracy: 9903/10000 (99.03%)\n",
            "\n",
            "14\n"
          ]
        },
        {
          "name": "stderr",
          "output_type": "stream",
          "text": [
            "loss=0.1263 batch_id=234: 100%|██████████| 235/235 [00:17<00:00, 13.08it/s]\n"
          ]
        },
        {
          "name": "stdout",
          "output_type": "stream",
          "text": [
            "Test set: Average loss: 0.0272, Accuracy: 9914/10000 (99.14%)\n",
            "\n",
            "15\n"
          ]
        },
        {
          "name": "stderr",
          "output_type": "stream",
          "text": [
            "loss=0.1657 batch_id=234: 100%|██████████| 235/235 [00:18<00:00, 12.76it/s]\n"
          ]
        },
        {
          "name": "stdout",
          "output_type": "stream",
          "text": [
            "Test set: Average loss: 0.0291, Accuracy: 9914/10000 (99.14%)\n",
            "\n",
            "16\n"
          ]
        },
        {
          "name": "stderr",
          "output_type": "stream",
          "text": [
            "loss=0.0388 batch_id=234: 100%|██████████| 235/235 [00:18<00:00, 12.80it/s]\n"
          ]
        },
        {
          "name": "stdout",
          "output_type": "stream",
          "text": [
            "Test set: Average loss: 0.0281, Accuracy: 9913/10000 (99.13%)\n",
            "\n",
            "17\n"
          ]
        },
        {
          "name": "stderr",
          "output_type": "stream",
          "text": [
            "loss=0.1016 batch_id=234: 100%|██████████| 235/235 [00:18<00:00, 13.03it/s]\n"
          ]
        },
        {
          "name": "stdout",
          "output_type": "stream",
          "text": [
            "Test set: Average loss: 0.0276, Accuracy: 9919/10000 (99.19%)\n",
            "\n",
            "18\n"
          ]
        },
        {
          "name": "stderr",
          "output_type": "stream",
          "text": [
            "loss=0.0554 batch_id=234: 100%|██████████| 235/235 [00:18<00:00, 12.82it/s]\n"
          ]
        },
        {
          "name": "stdout",
          "output_type": "stream",
          "text": [
            "Test set: Average loss: 0.0271, Accuracy: 9916/10000 (99.16%)\n",
            "\n",
            "19\n"
          ]
        },
        {
          "name": "stderr",
          "output_type": "stream",
          "text": [
            "loss=0.0687 batch_id=234: 100%|██████████| 235/235 [00:18<00:00, 12.85it/s]\n"
          ]
        },
        {
          "name": "stdout",
          "output_type": "stream",
          "text": [
            "Test set: Average loss: 0.0290, Accuracy: 9911/10000 (99.11%)\n",
            "\n",
            "20\n"
          ]
        },
        {
          "name": "stderr",
          "output_type": "stream",
          "text": [
            "loss=0.0722 batch_id=234: 100%|██████████| 235/235 [00:18<00:00, 12.87it/s]\n"
          ]
        },
        {
          "name": "stdout",
          "output_type": "stream",
          "text": [
            "Test set: Average loss: 0.0271, Accuracy: 9912/10000 (99.12%)\n",
            "\n"
          ]
        }
      ]
    },
    {
      "cell_type": "code",
      "metadata": {
        "id": "u15ANoccyk9A"
      },
      "source": [
        ""
      ],
      "execution_count": null,
      "outputs": []
    },
    {
      "cell_type": "code",
      "metadata": {
        "id": "QE8Q_wI-VHwe"
      },
      "source": [
        ""
      ],
      "execution_count": null,
      "outputs": []
    },
    {
      "cell_type": "markdown",
      "metadata": {
        "id": "pDw4SSmnRKqj"
      },
      "source": [
        "## Plotting the Loss curve and Accuracy for different EPOCHS\n",
        "\n"
      ]
    },
    {
      "cell_type": "code",
      "metadata": {
        "id": "vSvPvfV5T1Mu"
      },
      "source": [
        "def plot_history(h, norm):\n",
        "  # Ploting the graphs for loss and accuracy \n",
        "  # For loss and epochs\n",
        "  plt.figure(figsize=(14,5))\n",
        "  plt.title(norm)\n",
        "  \n",
        "  plt.subplot(1,2,1)\n",
        "  plt.plot(h['train_loss'], label='Training Loss') # plotting the training loss\n",
        "  plt.plot(h['test_loss'], label='Test Loss') # plotting the testing loss\n",
        "  # putting the labels on plot\n",
        "  plt.title('Loss vs Epoch')\n",
        "  plt.xlabel('Epochs')\n",
        "  plt.ylabel('Loss')\n",
        "  plt.grid()\n",
        "  plt.legend()\n",
        "\n",
        "  # For accuracy and epochs\n",
        "  plt.subplot(1,2,2)\n",
        "  plt.plot(h['train_accuracy'], label='Training Accuracy') # plotting the training accuracy\n",
        "  plt.plot(h['test_accuracy'], label='Test Accuracy') # plotting the testing accuracy\n",
        "  # putting the labels in plot\n",
        "  plt.title('Accuracy vs Epoch')\n",
        "  plt.xlabel('Epochs')\n",
        "  plt.ylabel('Accuracy')\n",
        "  plt.grid()\n",
        "  plt.legend()\n",
        "\n",
        "  plt.show()"
      ],
      "execution_count": null,
      "outputs": []
    },
    {
      "cell_type": "code",
      "metadata": {
        "colab": {
          "base_uri": "https://localhost:8080/",
          "height": 350
        },
        "id": "K42I17HCR7HC",
        "outputId": "a09a1d79-690b-439a-8763-832ae90ef98a"
      },
      "source": [
        "# Plot for Batch Normalisation\n",
        "plot_history(hist_bn, norm = 'bn')"
      ],
      "execution_count": null,
      "outputs": [
        {
          "data": {
            "image/png": "[encoded data removed]",
            "text/plain": [
              "<Figure size 1008x360 with 2 Axes>"
            ]
          },
          "metadata": {},
          "output_type": "display_data"
        }
      ]
    },
    {
      "cell_type": "code",
      "metadata": {
        "colab": {
          "base_uri": "https://localhost:8080/",
          "height": 350
        },
        "id": "cpOSHpAMUoRA",
        "outputId": "5d9a60e4-269b-4625-947b-19d0043607b6"
      },
      "source": [
        "# Plot for Group Normalisation\n",
        "plot_history(hist_gn, norm = 'gn')"
      ],
      "execution_count": null,
      "outputs": [
        {
          "data": {
            "image/png": "[encoded data removed]",
            "text/plain": [
              "<Figure size 1008x360 with 2 Axes>"
            ]
          },
          "metadata": {},
          "output_type": "display_data"
        }
      ]
    },
    {
      "cell_type": "code",
      "metadata": {
        "colab": {
          "base_uri": "https://localhost:8080/",
          "height": 350
        },
        "id": "TS-SKoz93K1O",
        "outputId": "101d2ee2-740d-40f1-acd9-a4e4cc988ae7"
      },
      "source": [
        "# Plot for Layer Normalisation\n",
        "plot_history(hist_ln, norm = 'ln')"
      ],
      "execution_count": null,
      "outputs": [
        {
          "data": {
            "image/png": "[encoded data removed]",
            "text/plain": [
              "<Figure size 1008x360 with 2 Axes>"
            ]
          },
          "metadata": {},
          "output_type": "display_data"
        }
      ]
    },
    {
      "cell_type": "code",
      "metadata": {
        "colab": {
          "base_uri": "https://localhost:8080/",
          "height": 350
        },
        "id": "wyXfL5Vg3K-Q",
        "outputId": "6c2ab9d7-7707-4e37-d1a8-af54d0d66916"
      },
      "source": [
        "# Plot for Batch Normalisation + L1\n",
        "plot_history(hist_l1, norm = 'bn')"
      ],
      "execution_count": null,
      "outputs": [
        {
          "data": {
            "image/png": "[encoded data removed]",
            "text/plain": [
              "<Figure size 1008x360 with 2 Axes>"
            ]
          },
          "metadata": {},
          "output_type": "display_data"
        }
      ]
    },
    {
      "cell_type": "code",
      "metadata": {
        "colab": {
          "base_uri": "https://localhost:8080/",
          "height": 350
        },
        "id": "7D08YyOx3bc7",
        "outputId": "e6d3b603-07b1-4b97-b68d-aa1817eeba95"
      },
      "source": [
        "# Plot for Batch Normalisation + L2\n",
        "plot_history(hist_l2, norm = 'bn')"
      ],
      "execution_count": null,
      "outputs": [
        {
          "data": {
            "image/png": "[encoded data removed]",
            "text/plain": [
              "<Figure size 1008x360 with 2 Axes>"
            ]
          },
          "metadata": {},
          "output_type": "display_data"
        }
      ]
    },
    {
      "cell_type": "code",
      "metadata": {
        "id": "mGCxzX603gaD"
      },
      "source": [
        "### Visualising the misclassified Data while using Batch Normalisation"
      ],
      "execution_count": null,
      "outputs": []
    },
    {
      "cell_type": "code",
      "metadata": {
        "id": "zR6m_7NwT1RR"
      },
      "source": [
        "def plot_misclassified(net, data_loader, plot_title, num_images=20, row=4, col=5):\n",
        "  count = 0\n",
        "  k = 0\n",
        "  row, col = row, col\n",
        "  fig = plt.figure(figsize=(col*2, row*3))\n",
        "  while count<num_images:\n",
        "    img, label = data_loader.dataset[k]\n",
        "    pred = net(img.unsqueeze(0).to(device)).argmax().item()\n",
        "\n",
        "    if pred!=label:\n",
        "      count+=1\n",
        "      fig.add_subplot(row, col, count)\n",
        "      plt.suptitle(plot_title)\n",
        "      plt.title(f\"Ground Truth :{label}\\n Prediction: {pred}\")\n",
        "      plt.imshow(img.squeeze(0), cmap='gray')\n",
        "      plt.axis('off')\n",
        "    k += 1\n",
        "  plt.tight_layout()\n",
        "  plt.show()\n"
      ],
      "execution_count": null,
      "outputs": []
    },
    {
      "cell_type": "code",
      "metadata": {
        "colab": {
          "base_uri": "https://localhost:8080/",
          "height": 827
        },
        "id": "aRsQaTwM_YFp",
        "outputId": "d2d303d5-8805-44ef-f96f-4c9bbfe8c446"
      },
      "source": [
        "plot_misclassified(Net(norm='bn').to(device), test_set, plot_title='Batch Norm')"
      ],
      "execution_count": null,
      "outputs": [
        {
          "data": {
            "image/png": "[encoded data removed]",
            "text/plain": [
              "<Figure size 720x864 with 20 Axes>"
            ]
          },
          "metadata": {},
          "output_type": "display_data"
        }
      ]
    },
    {
      "cell_type": "code",
      "metadata": {
        "id": "9BZ0L9Y3-4ih"
      },
      "source": [
        "### Visualising the classified Data while using Batch Normalisation"
      ],
      "execution_count": null,
      "outputs": []
    },
    {
      "cell_type": "code",
      "metadata": {
        "id": "wEAmGRL4_h3X"
      },
      "source": [
        "def plot_classified(net, data_loader, plot_title, num_images=20, row=4, col=5):\n",
        "  count = 0\n",
        "  k = 0\n",
        "  row, col = row, col\n",
        "  fig = plt.figure(figsize=(col*2, row*3))\n",
        "  while count<num_images:\n",
        "    img, label = data_loader.dataset[k]\n",
        "    pred = net(img.unsqueeze(0).to(device)).argmax().item()\n",
        "\n",
        "    if pred ==label:\n",
        "      count+=1\n",
        "      fig.add_subplot(row, col, count)\n",
        "      plt.suptitle(plot_title)\n",
        "      plt.title(f\"Ground Truth :{label}\\n Prediction: {pred}\")\n",
        "      plt.imshow(img.squeeze(0), cmap='gray')\n",
        "      plt.axis('off')\n",
        "    k += 1\n",
        "  plt.tight_layout()\n",
        "  plt.show()"
      ],
      "execution_count": null,
      "outputs": []
    },
    {
      "cell_type": "code",
      "metadata": {
        "colab": {
          "base_uri": "https://localhost:8080/",
          "height": 827
        },
        "id": "PG29yZqW_D5U",
        "outputId": "7f7ef70d-3c85-4192-dbca-e0cf6774dfbb"
      },
      "source": [
        "plot_classified(Net(norm='bn').to(device), test_set, plot_title='Batch Norm')"
      ],
      "execution_count": null,
      "outputs": [
        {
          "data": {
            "image/png": "[encoded data removed]",
            "text/plain": [
              "<Figure size 720x864 with 20 Axes>"
            ]
          },
          "metadata": {},
          "output_type": "display_data"
        }
      ]
    }
  ]
}